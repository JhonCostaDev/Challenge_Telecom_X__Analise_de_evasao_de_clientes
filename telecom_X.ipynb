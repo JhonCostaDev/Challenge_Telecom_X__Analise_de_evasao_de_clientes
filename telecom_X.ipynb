{
 "cells": [
  {
   "cell_type": "markdown",
   "id": "0d38be66",
   "metadata": {},
   "source": [
    "#### Dicionário de dados\n",
    "\n",
    "* `customerID`: número de identificação único de cada cliente\n",
    "* `Churn`: se o cliente deixou ou não a empresa\n",
    "* `gender`: gênero (masculino e feminino)\n",
    "* `SeniorCitizen`: informação sobre um cliente ter ou não idade igual ou maior que 65 anos\n",
    "* `Partner`:  se o cliente possui ou não um parceiro ou parceira\n",
    "* `Dependents`: se o cliente possui ou não dependentes\n",
    "* `tenure`:  meses de contrato do cliente\n",
    "* `PhoneService`: assinatura de serviço telefônico\n",
    "* `MultipleLines`: assisnatura de mais de uma linha de telefone\n",
    "* `InternetService`: assinatura de um provedor internet\n",
    "* `OnlineSecurity`: assinatura adicional de segurança online\n",
    "* `OnlineBackup`: assinatura adicional de backup online\n",
    "* `DeviceProtection`: assinatura adicional de proteção no dispositivo\n",
    "* `TechSupport`: assinatura adicional de suporte técnico, menos tempo de espera\n",
    "* `StreamingTV`: assinatura de TV a cabo\n",
    "* `StreamingMovies`: assinatura de streaming de filmes\n",
    "* `Contract`: tipo de contrato\n",
    "* `PaperlessBilling`: se o cliente prefere receber online a fatura\n",
    "* `PaymentMethod`: forma de pagamento\n",
    "* `Charges.Monthly`: total de todos os serviços do cliente por mês\n",
    "* `Charges.Total`: total gasto pelo cliente"
   ]
  },
  {
   "cell_type": "code",
   "execution_count": 2,
   "id": "b19172c8",
   "metadata": {},
   "outputs": [],
   "source": [
    "# Criei um dicionario do dicionario das colunas para facilitar entendimento dos dados de cada coluna.\n",
    "dict_data = {\n",
    "    'customerID': 'número de identificação único de cada cliente',\n",
    "    'Churn': 'se o cliente deixou ou não a empresa' ,\n",
    "    'gender': 'gênero (masculino e feminino)',\n",
    "    'SeniorCitizen':' informação sobre um cliente ter ou não idade igual ou maior que 65 anos ',\n",
    "    'Partner':  'se o cliente possui ou não um parceiro ou parceira',\n",
    "    'Dependents': 'se o cliente possui ou não dependentes',\n",
    "    'tenure': ' meses de contrato do cliente',\n",
    "    'PhoneService': 'assinatura de serviço telefônico',\n",
    "    'MultipleLines': 'assisnatura de mais de uma linha de telefone',\n",
    "    'InternetService': 'assinatura de um provedor internet',\n",
    "    'OnlineSecurity': 'assinatura adicional de segurança online',\n",
    "    'OnlineBackup': 'assinatura adicional de backup online ',\n",
    "    'DeviceProtection': 'assinatura adicional de proteção no dispositivo',\n",
    "    'TechSupport': 'assinatura adicional de suporte técnico, menos tempo de espera',\n",
    "    'StreamingTV': 'assinatura de TV a cabo ',\n",
    "    'StreamingMovies': 'assinatura de streaming de filmes ',\n",
    "    'Contract': 'tipo de contrato',\n",
    "    'PaperlessBilling': 'se o cliente prefere receber online a fatura',\n",
    "    'PaymentMethod': 'forma de pagamento',\n",
    "    'Charges.Monthly': 'total de todos os serviços do cliente por mês',\n",
    "    'Charges.Total': 'total gasto pelo cliente'\n",
    "    }"
   ]
  },
  {
   "cell_type": "code",
   "execution_count": 3,
   "id": "83f71365",
   "metadata": {},
   "outputs": [],
   "source": [
    "# Imports das bibliotecas utilizadas\n",
    "import pandas as pd\n",
    "import numpy as np\n",
    "import requests\n",
    "import io"
   ]
  },
  {
   "cell_type": "code",
   "execution_count": 4,
   "id": "ed3e2775",
   "metadata": {},
   "outputs": [],
   "source": [
    "# Buscando os Dados\n",
    "\n",
    "# Url da base de dados\n",
    "data_url = 'https://raw.githubusercontent.com/ingridcristh/challenge2-data-science/refs/heads/main/TelecomX_Data.json'\n",
    "\n",
    "response = requests.get(data_url)\n",
    "\n",
    "if response.status_code == 200:\n",
    "    json_file = io.StringIO(response.text)\n",
    "else:\n",
    "    print(f\"Bad response: status code: {response.status_code}\")\n",
    "    \n"
   ]
  },
  {
   "cell_type": "code",
   "execution_count": 5,
   "id": "b58e4718",
   "metadata": {},
   "outputs": [
    {
     "data": {
      "text/html": [
       "<div>\n",
       "<style scoped>\n",
       "    .dataframe tbody tr th:only-of-type {\n",
       "        vertical-align: middle;\n",
       "    }\n",
       "\n",
       "    .dataframe tbody tr th {\n",
       "        vertical-align: top;\n",
       "    }\n",
       "\n",
       "    .dataframe thead th {\n",
       "        text-align: right;\n",
       "    }\n",
       "</style>\n",
       "<table border=\"1\" class=\"dataframe\">\n",
       "  <thead>\n",
       "    <tr style=\"text-align: right;\">\n",
       "      <th></th>\n",
       "      <th>customerID</th>\n",
       "      <th>Churn</th>\n",
       "      <th>customer</th>\n",
       "      <th>phone</th>\n",
       "      <th>internet</th>\n",
       "      <th>account</th>\n",
       "    </tr>\n",
       "  </thead>\n",
       "  <tbody>\n",
       "    <tr>\n",
       "      <th>0</th>\n",
       "      <td>0002-ORFBO</td>\n",
       "      <td>No</td>\n",
       "      <td>{'gender': 'Female', 'SeniorCitizen': 0, 'Part...</td>\n",
       "      <td>{'PhoneService': 'Yes', 'MultipleLines': 'No'}</td>\n",
       "      <td>{'InternetService': 'DSL', 'OnlineSecurity': '...</td>\n",
       "      <td>{'Contract': 'One year', 'PaperlessBilling': '...</td>\n",
       "    </tr>\n",
       "    <tr>\n",
       "      <th>1</th>\n",
       "      <td>0003-MKNFE</td>\n",
       "      <td>No</td>\n",
       "      <td>{'gender': 'Male', 'SeniorCitizen': 0, 'Partne...</td>\n",
       "      <td>{'PhoneService': 'Yes', 'MultipleLines': 'Yes'}</td>\n",
       "      <td>{'InternetService': 'DSL', 'OnlineSecurity': '...</td>\n",
       "      <td>{'Contract': 'Month-to-month', 'PaperlessBilli...</td>\n",
       "    </tr>\n",
       "    <tr>\n",
       "      <th>2</th>\n",
       "      <td>0004-TLHLJ</td>\n",
       "      <td>Yes</td>\n",
       "      <td>{'gender': 'Male', 'SeniorCitizen': 0, 'Partne...</td>\n",
       "      <td>{'PhoneService': 'Yes', 'MultipleLines': 'No'}</td>\n",
       "      <td>{'InternetService': 'Fiber optic', 'OnlineSecu...</td>\n",
       "      <td>{'Contract': 'Month-to-month', 'PaperlessBilli...</td>\n",
       "    </tr>\n",
       "    <tr>\n",
       "      <th>3</th>\n",
       "      <td>0011-IGKFF</td>\n",
       "      <td>Yes</td>\n",
       "      <td>{'gender': 'Male', 'SeniorCitizen': 1, 'Partne...</td>\n",
       "      <td>{'PhoneService': 'Yes', 'MultipleLines': 'No'}</td>\n",
       "      <td>{'InternetService': 'Fiber optic', 'OnlineSecu...</td>\n",
       "      <td>{'Contract': 'Month-to-month', 'PaperlessBilli...</td>\n",
       "    </tr>\n",
       "    <tr>\n",
       "      <th>4</th>\n",
       "      <td>0013-EXCHZ</td>\n",
       "      <td>Yes</td>\n",
       "      <td>{'gender': 'Female', 'SeniorCitizen': 1, 'Part...</td>\n",
       "      <td>{'PhoneService': 'Yes', 'MultipleLines': 'No'}</td>\n",
       "      <td>{'InternetService': 'Fiber optic', 'OnlineSecu...</td>\n",
       "      <td>{'Contract': 'Month-to-month', 'PaperlessBilli...</td>\n",
       "    </tr>\n",
       "  </tbody>\n",
       "</table>\n",
       "</div>"
      ],
      "text/plain": [
       "   customerID Churn                                           customer  \\\n",
       "0  0002-ORFBO    No  {'gender': 'Female', 'SeniorCitizen': 0, 'Part...   \n",
       "1  0003-MKNFE    No  {'gender': 'Male', 'SeniorCitizen': 0, 'Partne...   \n",
       "2  0004-TLHLJ   Yes  {'gender': 'Male', 'SeniorCitizen': 0, 'Partne...   \n",
       "3  0011-IGKFF   Yes  {'gender': 'Male', 'SeniorCitizen': 1, 'Partne...   \n",
       "4  0013-EXCHZ   Yes  {'gender': 'Female', 'SeniorCitizen': 1, 'Part...   \n",
       "\n",
       "                                             phone  \\\n",
       "0   {'PhoneService': 'Yes', 'MultipleLines': 'No'}   \n",
       "1  {'PhoneService': 'Yes', 'MultipleLines': 'Yes'}   \n",
       "2   {'PhoneService': 'Yes', 'MultipleLines': 'No'}   \n",
       "3   {'PhoneService': 'Yes', 'MultipleLines': 'No'}   \n",
       "4   {'PhoneService': 'Yes', 'MultipleLines': 'No'}   \n",
       "\n",
       "                                            internet  \\\n",
       "0  {'InternetService': 'DSL', 'OnlineSecurity': '...   \n",
       "1  {'InternetService': 'DSL', 'OnlineSecurity': '...   \n",
       "2  {'InternetService': 'Fiber optic', 'OnlineSecu...   \n",
       "3  {'InternetService': 'Fiber optic', 'OnlineSecu...   \n",
       "4  {'InternetService': 'Fiber optic', 'OnlineSecu...   \n",
       "\n",
       "                                             account  \n",
       "0  {'Contract': 'One year', 'PaperlessBilling': '...  \n",
       "1  {'Contract': 'Month-to-month', 'PaperlessBilli...  \n",
       "2  {'Contract': 'Month-to-month', 'PaperlessBilli...  \n",
       "3  {'Contract': 'Month-to-month', 'PaperlessBilli...  \n",
       "4  {'Contract': 'Month-to-month', 'PaperlessBilli...  "
      ]
     },
     "execution_count": 5,
     "metadata": {},
     "output_type": "execute_result"
    }
   ],
   "source": [
    "# Criando o Dataframe\n",
    "raw_data = pd.read_json(json_file)\n",
    "\n",
    "# Primeira visualização\n",
    "raw_data.head()"
   ]
  },
  {
   "cell_type": "markdown",
   "id": "62b858c3",
   "metadata": {},
   "source": [
    "Os dados das colunas: **customer, phone, internet e account** estão aninhados e precisam ser normalizados "
   ]
  },
  {
   "cell_type": "code",
   "execution_count": 6,
   "id": "1261f1cc",
   "metadata": {},
   "outputs": [],
   "source": [
    "# Criando uma lista com as colunas que precisam ser normalizadas\n",
    "to_normalize = raw_data.columns[2:].tolist()\n",
    "\n",
    "# Utilizando o a método json_normalize do pandas para normalizar o dataframe\n",
    "# Criando uma lista para auxiliar na normalização\n",
    "dfs_normalized = [pd.json_normalize(raw_data[x]) for x in to_normalize]"
   ]
  },
  {
   "cell_type": "markdown",
   "id": "96859fed",
   "metadata": {},
   "source": [
    "Com uma lista com 4 dataframes correspondente as colunas que precisavam ser normalizadas, agora juntarei tudo em um único dataframe"
   ]
  },
  {
   "cell_type": "code",
   "execution_count": 7,
   "id": "a31f927f",
   "metadata": {},
   "outputs": [],
   "source": [
    "# Juntando os dataframes\n",
    "df = pd.concat([raw_data[['customerID', 'Churn']], dfs_normalized[0], dfs_normalized[1],dfs_normalized[2],dfs_normalized[3]], axis=1)"
   ]
  },
  {
   "cell_type": "code",
   "execution_count": 8,
   "id": "8009c888",
   "metadata": {},
   "outputs": [
    {
     "data": {
      "text/html": [
       "<div>\n",
       "<style scoped>\n",
       "    .dataframe tbody tr th:only-of-type {\n",
       "        vertical-align: middle;\n",
       "    }\n",
       "\n",
       "    .dataframe tbody tr th {\n",
       "        vertical-align: top;\n",
       "    }\n",
       "\n",
       "    .dataframe thead th {\n",
       "        text-align: right;\n",
       "    }\n",
       "</style>\n",
       "<table border=\"1\" class=\"dataframe\">\n",
       "  <thead>\n",
       "    <tr style=\"text-align: right;\">\n",
       "      <th></th>\n",
       "      <th>customerID</th>\n",
       "      <th>Churn</th>\n",
       "      <th>gender</th>\n",
       "      <th>SeniorCitizen</th>\n",
       "      <th>Partner</th>\n",
       "      <th>Dependents</th>\n",
       "      <th>tenure</th>\n",
       "      <th>PhoneService</th>\n",
       "      <th>MultipleLines</th>\n",
       "      <th>InternetService</th>\n",
       "      <th>...</th>\n",
       "      <th>OnlineBackup</th>\n",
       "      <th>DeviceProtection</th>\n",
       "      <th>TechSupport</th>\n",
       "      <th>StreamingTV</th>\n",
       "      <th>StreamingMovies</th>\n",
       "      <th>Contract</th>\n",
       "      <th>PaperlessBilling</th>\n",
       "      <th>PaymentMethod</th>\n",
       "      <th>Charges.Monthly</th>\n",
       "      <th>Charges.Total</th>\n",
       "    </tr>\n",
       "  </thead>\n",
       "  <tbody>\n",
       "    <tr>\n",
       "      <th>0</th>\n",
       "      <td>0002-ORFBO</td>\n",
       "      <td>No</td>\n",
       "      <td>Female</td>\n",
       "      <td>0</td>\n",
       "      <td>Yes</td>\n",
       "      <td>Yes</td>\n",
       "      <td>9</td>\n",
       "      <td>Yes</td>\n",
       "      <td>No</td>\n",
       "      <td>DSL</td>\n",
       "      <td>...</td>\n",
       "      <td>Yes</td>\n",
       "      <td>No</td>\n",
       "      <td>Yes</td>\n",
       "      <td>Yes</td>\n",
       "      <td>No</td>\n",
       "      <td>One year</td>\n",
       "      <td>Yes</td>\n",
       "      <td>Mailed check</td>\n",
       "      <td>65.6</td>\n",
       "      <td>593.3</td>\n",
       "    </tr>\n",
       "    <tr>\n",
       "      <th>1</th>\n",
       "      <td>0003-MKNFE</td>\n",
       "      <td>No</td>\n",
       "      <td>Male</td>\n",
       "      <td>0</td>\n",
       "      <td>No</td>\n",
       "      <td>No</td>\n",
       "      <td>9</td>\n",
       "      <td>Yes</td>\n",
       "      <td>Yes</td>\n",
       "      <td>DSL</td>\n",
       "      <td>...</td>\n",
       "      <td>No</td>\n",
       "      <td>No</td>\n",
       "      <td>No</td>\n",
       "      <td>No</td>\n",
       "      <td>Yes</td>\n",
       "      <td>Month-to-month</td>\n",
       "      <td>No</td>\n",
       "      <td>Mailed check</td>\n",
       "      <td>59.9</td>\n",
       "      <td>542.4</td>\n",
       "    </tr>\n",
       "    <tr>\n",
       "      <th>2</th>\n",
       "      <td>0004-TLHLJ</td>\n",
       "      <td>Yes</td>\n",
       "      <td>Male</td>\n",
       "      <td>0</td>\n",
       "      <td>No</td>\n",
       "      <td>No</td>\n",
       "      <td>4</td>\n",
       "      <td>Yes</td>\n",
       "      <td>No</td>\n",
       "      <td>Fiber optic</td>\n",
       "      <td>...</td>\n",
       "      <td>No</td>\n",
       "      <td>Yes</td>\n",
       "      <td>No</td>\n",
       "      <td>No</td>\n",
       "      <td>No</td>\n",
       "      <td>Month-to-month</td>\n",
       "      <td>Yes</td>\n",
       "      <td>Electronic check</td>\n",
       "      <td>73.9</td>\n",
       "      <td>280.85</td>\n",
       "    </tr>\n",
       "    <tr>\n",
       "      <th>3</th>\n",
       "      <td>0011-IGKFF</td>\n",
       "      <td>Yes</td>\n",
       "      <td>Male</td>\n",
       "      <td>1</td>\n",
       "      <td>Yes</td>\n",
       "      <td>No</td>\n",
       "      <td>13</td>\n",
       "      <td>Yes</td>\n",
       "      <td>No</td>\n",
       "      <td>Fiber optic</td>\n",
       "      <td>...</td>\n",
       "      <td>Yes</td>\n",
       "      <td>Yes</td>\n",
       "      <td>No</td>\n",
       "      <td>Yes</td>\n",
       "      <td>Yes</td>\n",
       "      <td>Month-to-month</td>\n",
       "      <td>Yes</td>\n",
       "      <td>Electronic check</td>\n",
       "      <td>98.0</td>\n",
       "      <td>1237.85</td>\n",
       "    </tr>\n",
       "    <tr>\n",
       "      <th>4</th>\n",
       "      <td>0013-EXCHZ</td>\n",
       "      <td>Yes</td>\n",
       "      <td>Female</td>\n",
       "      <td>1</td>\n",
       "      <td>Yes</td>\n",
       "      <td>No</td>\n",
       "      <td>3</td>\n",
       "      <td>Yes</td>\n",
       "      <td>No</td>\n",
       "      <td>Fiber optic</td>\n",
       "      <td>...</td>\n",
       "      <td>No</td>\n",
       "      <td>No</td>\n",
       "      <td>Yes</td>\n",
       "      <td>Yes</td>\n",
       "      <td>No</td>\n",
       "      <td>Month-to-month</td>\n",
       "      <td>Yes</td>\n",
       "      <td>Mailed check</td>\n",
       "      <td>83.9</td>\n",
       "      <td>267.4</td>\n",
       "    </tr>\n",
       "  </tbody>\n",
       "</table>\n",
       "<p>5 rows × 21 columns</p>\n",
       "</div>"
      ],
      "text/plain": [
       "   customerID Churn  gender  SeniorCitizen Partner Dependents  tenure  \\\n",
       "0  0002-ORFBO    No  Female              0     Yes        Yes       9   \n",
       "1  0003-MKNFE    No    Male              0      No         No       9   \n",
       "2  0004-TLHLJ   Yes    Male              0      No         No       4   \n",
       "3  0011-IGKFF   Yes    Male              1     Yes         No      13   \n",
       "4  0013-EXCHZ   Yes  Female              1     Yes         No       3   \n",
       "\n",
       "  PhoneService MultipleLines InternetService  ... OnlineBackup  \\\n",
       "0          Yes            No             DSL  ...          Yes   \n",
       "1          Yes           Yes             DSL  ...           No   \n",
       "2          Yes            No     Fiber optic  ...           No   \n",
       "3          Yes            No     Fiber optic  ...          Yes   \n",
       "4          Yes            No     Fiber optic  ...           No   \n",
       "\n",
       "  DeviceProtection TechSupport StreamingTV StreamingMovies        Contract  \\\n",
       "0               No         Yes         Yes              No        One year   \n",
       "1               No          No          No             Yes  Month-to-month   \n",
       "2              Yes          No          No              No  Month-to-month   \n",
       "3              Yes          No         Yes             Yes  Month-to-month   \n",
       "4               No         Yes         Yes              No  Month-to-month   \n",
       "\n",
       "  PaperlessBilling     PaymentMethod Charges.Monthly  Charges.Total  \n",
       "0              Yes      Mailed check            65.6          593.3  \n",
       "1               No      Mailed check            59.9          542.4  \n",
       "2              Yes  Electronic check            73.9         280.85  \n",
       "3              Yes  Electronic check            98.0        1237.85  \n",
       "4              Yes      Mailed check            83.9          267.4  \n",
       "\n",
       "[5 rows x 21 columns]"
      ]
     },
     "execution_count": 8,
     "metadata": {},
     "output_type": "execute_result"
    }
   ],
   "source": [
    "# Primeira view do dataframe já normalizado\n",
    "df.head()"
   ]
  },
  {
   "cell_type": "markdown",
   "id": "008615fc",
   "metadata": {},
   "source": [
    "#### Conhecendo o dataSet"
   ]
  },
  {
   "cell_type": "code",
   "execution_count": 9,
   "id": "ae6fb1b3",
   "metadata": {},
   "outputs": [
    {
     "name": "stdout",
     "output_type": "stream",
     "text": [
      "<class 'pandas.core.frame.DataFrame'>\n",
      "RangeIndex: 7267 entries, 0 to 7266\n",
      "Data columns (total 21 columns):\n",
      " #   Column            Non-Null Count  Dtype  \n",
      "---  ------            --------------  -----  \n",
      " 0   customerID        7267 non-null   object \n",
      " 1   Churn             7267 non-null   object \n",
      " 2   gender            7267 non-null   object \n",
      " 3   SeniorCitizen     7267 non-null   int64  \n",
      " 4   Partner           7267 non-null   object \n",
      " 5   Dependents        7267 non-null   object \n",
      " 6   tenure            7267 non-null   int64  \n",
      " 7   PhoneService      7267 non-null   object \n",
      " 8   MultipleLines     7267 non-null   object \n",
      " 9   InternetService   7267 non-null   object \n",
      " 10  OnlineSecurity    7267 non-null   object \n",
      " 11  OnlineBackup      7267 non-null   object \n",
      " 12  DeviceProtection  7267 non-null   object \n",
      " 13  TechSupport       7267 non-null   object \n",
      " 14  StreamingTV       7267 non-null   object \n",
      " 15  StreamingMovies   7267 non-null   object \n",
      " 16  Contract          7267 non-null   object \n",
      " 17  PaperlessBilling  7267 non-null   object \n",
      " 18  PaymentMethod     7267 non-null   object \n",
      " 19  Charges.Monthly   7267 non-null   float64\n",
      " 20  Charges.Total     7267 non-null   object \n",
      "dtypes: float64(1), int64(2), object(18)\n",
      "memory usage: 7.0 MB\n"
     ]
    }
   ],
   "source": [
    "# Informação de linhas colunas e tipos de colunas\n",
    "df.info(memory_usage='deep')"
   ]
  },
  {
   "cell_type": "code",
   "execution_count": 10,
   "id": "ff839812",
   "metadata": {},
   "outputs": [
    {
     "name": "stdout",
     "output_type": "stream",
     "text": [
      "linhas: 7267, colunas: 21\n"
     ]
    }
   ],
   "source": [
    "# Confirmando o número de linhas e colunas\n",
    "rows, columns = df.shape\n",
    "print(f'linhas: {rows}, colunas: {columns}')"
   ]
  },
  {
   "cell_type": "code",
   "execution_count": 11,
   "id": "a06de426",
   "metadata": {},
   "outputs": [
    {
     "data": {
      "text/html": [
       "<div>\n",
       "<style scoped>\n",
       "    .dataframe tbody tr th:only-of-type {\n",
       "        vertical-align: middle;\n",
       "    }\n",
       "\n",
       "    .dataframe tbody tr th {\n",
       "        vertical-align: top;\n",
       "    }\n",
       "\n",
       "    .dataframe thead th {\n",
       "        text-align: right;\n",
       "    }\n",
       "</style>\n",
       "<table border=\"1\" class=\"dataframe\">\n",
       "  <thead>\n",
       "    <tr style=\"text-align: right;\">\n",
       "      <th></th>\n",
       "      <th>customerID</th>\n",
       "      <th>Churn</th>\n",
       "      <th>gender</th>\n",
       "      <th>Partner</th>\n",
       "      <th>Dependents</th>\n",
       "      <th>PhoneService</th>\n",
       "      <th>MultipleLines</th>\n",
       "      <th>InternetService</th>\n",
       "      <th>OnlineSecurity</th>\n",
       "      <th>OnlineBackup</th>\n",
       "      <th>DeviceProtection</th>\n",
       "      <th>TechSupport</th>\n",
       "      <th>StreamingTV</th>\n",
       "      <th>StreamingMovies</th>\n",
       "      <th>Contract</th>\n",
       "      <th>PaperlessBilling</th>\n",
       "      <th>PaymentMethod</th>\n",
       "      <th>Charges.Total</th>\n",
       "    </tr>\n",
       "  </thead>\n",
       "  <tbody>\n",
       "    <tr>\n",
       "      <th>count</th>\n",
       "      <td>7267</td>\n",
       "      <td>7267</td>\n",
       "      <td>7267</td>\n",
       "      <td>7267</td>\n",
       "      <td>7267</td>\n",
       "      <td>7267</td>\n",
       "      <td>7267</td>\n",
       "      <td>7267</td>\n",
       "      <td>7267</td>\n",
       "      <td>7267</td>\n",
       "      <td>7267</td>\n",
       "      <td>7267</td>\n",
       "      <td>7267</td>\n",
       "      <td>7267</td>\n",
       "      <td>7267</td>\n",
       "      <td>7267</td>\n",
       "      <td>7267</td>\n",
       "      <td>7267</td>\n",
       "    </tr>\n",
       "    <tr>\n",
       "      <th>unique</th>\n",
       "      <td>7267</td>\n",
       "      <td>3</td>\n",
       "      <td>2</td>\n",
       "      <td>2</td>\n",
       "      <td>2</td>\n",
       "      <td>2</td>\n",
       "      <td>3</td>\n",
       "      <td>3</td>\n",
       "      <td>3</td>\n",
       "      <td>3</td>\n",
       "      <td>3</td>\n",
       "      <td>3</td>\n",
       "      <td>3</td>\n",
       "      <td>3</td>\n",
       "      <td>3</td>\n",
       "      <td>2</td>\n",
       "      <td>4</td>\n",
       "      <td>6531</td>\n",
       "    </tr>\n",
       "    <tr>\n",
       "      <th>top</th>\n",
       "      <td>9995-HOTOH</td>\n",
       "      <td>No</td>\n",
       "      <td>Male</td>\n",
       "      <td>No</td>\n",
       "      <td>No</td>\n",
       "      <td>Yes</td>\n",
       "      <td>No</td>\n",
       "      <td>Fiber optic</td>\n",
       "      <td>No</td>\n",
       "      <td>No</td>\n",
       "      <td>No</td>\n",
       "      <td>No</td>\n",
       "      <td>No</td>\n",
       "      <td>No</td>\n",
       "      <td>Month-to-month</td>\n",
       "      <td>Yes</td>\n",
       "      <td>Electronic check</td>\n",
       "      <td>20.2</td>\n",
       "    </tr>\n",
       "    <tr>\n",
       "      <th>freq</th>\n",
       "      <td>1</td>\n",
       "      <td>5174</td>\n",
       "      <td>3675</td>\n",
       "      <td>3749</td>\n",
       "      <td>5086</td>\n",
       "      <td>6560</td>\n",
       "      <td>3495</td>\n",
       "      <td>3198</td>\n",
       "      <td>3608</td>\n",
       "      <td>3182</td>\n",
       "      <td>3195</td>\n",
       "      <td>3582</td>\n",
       "      <td>2896</td>\n",
       "      <td>2870</td>\n",
       "      <td>4005</td>\n",
       "      <td>4311</td>\n",
       "      <td>2445</td>\n",
       "      <td>11</td>\n",
       "    </tr>\n",
       "  </tbody>\n",
       "</table>\n",
       "</div>"
      ],
      "text/plain": [
       "        customerID Churn gender Partner Dependents PhoneService MultipleLines  \\\n",
       "count         7267  7267   7267    7267       7267         7267          7267   \n",
       "unique        7267     3      2       2          2            2             3   \n",
       "top     9995-HOTOH    No   Male      No         No          Yes            No   \n",
       "freq             1  5174   3675    3749       5086         6560          3495   \n",
       "\n",
       "       InternetService OnlineSecurity OnlineBackup DeviceProtection  \\\n",
       "count             7267           7267         7267             7267   \n",
       "unique               3              3            3                3   \n",
       "top        Fiber optic             No           No               No   \n",
       "freq              3198           3608         3182             3195   \n",
       "\n",
       "       TechSupport StreamingTV StreamingMovies        Contract  \\\n",
       "count         7267        7267            7267            7267   \n",
       "unique           3           3               3               3   \n",
       "top             No          No              No  Month-to-month   \n",
       "freq          3582        2896            2870            4005   \n",
       "\n",
       "       PaperlessBilling     PaymentMethod Charges.Total  \n",
       "count              7267              7267          7267  \n",
       "unique                2                 4          6531  \n",
       "top                 Yes  Electronic check          20.2  \n",
       "freq               4311              2445            11  "
      ]
     },
     "execution_count": 11,
     "metadata": {},
     "output_type": "execute_result"
    }
   ],
   "source": [
    "# Describe das colunas categóricas\n",
    "df.describe(exclude=[np.number])"
   ]
  },
  {
   "cell_type": "code",
   "execution_count": 12,
   "id": "cabd6f99",
   "metadata": {},
   "outputs": [
    {
     "data": {
      "text/html": [
       "<div>\n",
       "<style scoped>\n",
       "    .dataframe tbody tr th:only-of-type {\n",
       "        vertical-align: middle;\n",
       "    }\n",
       "\n",
       "    .dataframe tbody tr th {\n",
       "        vertical-align: top;\n",
       "    }\n",
       "\n",
       "    .dataframe thead th {\n",
       "        text-align: right;\n",
       "    }\n",
       "</style>\n",
       "<table border=\"1\" class=\"dataframe\">\n",
       "  <thead>\n",
       "    <tr style=\"text-align: right;\">\n",
       "      <th></th>\n",
       "      <th>SeniorCitizen</th>\n",
       "      <th>tenure</th>\n",
       "      <th>Charges.Monthly</th>\n",
       "    </tr>\n",
       "  </thead>\n",
       "  <tbody>\n",
       "    <tr>\n",
       "      <th>count</th>\n",
       "      <td>7267.000000</td>\n",
       "      <td>7267.000000</td>\n",
       "      <td>7267.000000</td>\n",
       "    </tr>\n",
       "    <tr>\n",
       "      <th>mean</th>\n",
       "      <td>0.162653</td>\n",
       "      <td>32.346498</td>\n",
       "      <td>64.720098</td>\n",
       "    </tr>\n",
       "    <tr>\n",
       "      <th>std</th>\n",
       "      <td>0.369074</td>\n",
       "      <td>24.571773</td>\n",
       "      <td>30.129572</td>\n",
       "    </tr>\n",
       "    <tr>\n",
       "      <th>min</th>\n",
       "      <td>0.000000</td>\n",
       "      <td>0.000000</td>\n",
       "      <td>18.250000</td>\n",
       "    </tr>\n",
       "    <tr>\n",
       "      <th>25%</th>\n",
       "      <td>0.000000</td>\n",
       "      <td>9.000000</td>\n",
       "      <td>35.425000</td>\n",
       "    </tr>\n",
       "    <tr>\n",
       "      <th>50%</th>\n",
       "      <td>0.000000</td>\n",
       "      <td>29.000000</td>\n",
       "      <td>70.300000</td>\n",
       "    </tr>\n",
       "    <tr>\n",
       "      <th>75%</th>\n",
       "      <td>0.000000</td>\n",
       "      <td>55.000000</td>\n",
       "      <td>89.875000</td>\n",
       "    </tr>\n",
       "    <tr>\n",
       "      <th>max</th>\n",
       "      <td>1.000000</td>\n",
       "      <td>72.000000</td>\n",
       "      <td>118.750000</td>\n",
       "    </tr>\n",
       "  </tbody>\n",
       "</table>\n",
       "</div>"
      ],
      "text/plain": [
       "       SeniorCitizen       tenure  Charges.Monthly\n",
       "count    7267.000000  7267.000000      7267.000000\n",
       "mean        0.162653    32.346498        64.720098\n",
       "std         0.369074    24.571773        30.129572\n",
       "min         0.000000     0.000000        18.250000\n",
       "25%         0.000000     9.000000        35.425000\n",
       "50%         0.000000    29.000000        70.300000\n",
       "75%         0.000000    55.000000        89.875000\n",
       "max         1.000000    72.000000       118.750000"
      ]
     },
     "execution_count": 12,
     "metadata": {},
     "output_type": "execute_result"
    }
   ],
   "source": [
    "# Describe das colunas numéricas\n",
    "df.describe()"
   ]
  },
  {
   "cell_type": "markdown",
   "id": "618a9a23",
   "metadata": {},
   "source": [
    "#### Verificando Inconsistências nos Dados"
   ]
  },
  {
   "cell_type": "markdown",
   "id": "c46b6255",
   "metadata": {},
   "source": [
    "Analisando o método describe, é notável que algumas colunas que deveriam ser numéricas não estão sendo exibidas no método"
   ]
  },
  {
   "cell_type": "code",
   "execution_count": 13,
   "id": "a20b8256",
   "metadata": {},
   "outputs": [
    {
     "name": "stdout",
     "output_type": "stream",
     "text": [
      "customerID: número de identificação único de cada cliente\n",
      "Churn: se o cliente deixou ou não a empresa\n",
      "gender: gênero (masculino e feminino)\n",
      "SeniorCitizen:  informação sobre um cliente ter ou não idade igual ou maior que 65 anos \n",
      "Partner: se o cliente possui ou não um parceiro ou parceira\n",
      "Dependents: se o cliente possui ou não dependentes\n",
      "tenure:  meses de contrato do cliente\n",
      "PhoneService: assinatura de serviço telefônico\n",
      "MultipleLines: assisnatura de mais de uma linha de telefone\n",
      "InternetService: assinatura de um provedor internet\n",
      "OnlineSecurity: assinatura adicional de segurança online\n",
      "OnlineBackup: assinatura adicional de backup online \n",
      "DeviceProtection: assinatura adicional de proteção no dispositivo\n",
      "TechSupport: assinatura adicional de suporte técnico, menos tempo de espera\n",
      "StreamingTV: assinatura de TV a cabo \n",
      "StreamingMovies: assinatura de streaming de filmes \n",
      "Contract: tipo de contrato\n",
      "PaperlessBilling: se o cliente prefere receber online a fatura\n",
      "PaymentMethod: forma de pagamento\n",
      "Charges.Monthly: total de todos os serviços do cliente por mês\n",
      "Charges.Total: total gasto pelo cliente\n"
     ]
    }
   ],
   "source": [
    "# Utilizando o dicionário de dados fornecido para saber qual é o propósito de cada coluna no dataframe\n",
    "\n",
    "for key, value in dict_data.items():\n",
    "    print(f\"{key}: {value}\")"
   ]
  },
  {
   "cell_type": "code",
   "execution_count": 14,
   "id": "ee4fc70a",
   "metadata": {},
   "outputs": [
    {
     "name": "stdout",
     "output_type": "stream",
     "text": [
      "customerID: 7267\n",
      "Churn: 3\n",
      "gender: 2\n",
      "SeniorCitizen: 2\n",
      "Partner: 2\n",
      "Dependents: 2\n",
      "tenure: 73\n",
      "PhoneService: 2\n",
      "MultipleLines: 3\n",
      "InternetService: 3\n",
      "OnlineSecurity: 3\n",
      "OnlineBackup: 3\n",
      "DeviceProtection: 3\n",
      "TechSupport: 3\n",
      "StreamingTV: 3\n",
      "StreamingMovies: 3\n",
      "Contract: 3\n",
      "PaperlessBilling: 2\n",
      "PaymentMethod: 4\n",
      "Charges.Monthly: 1585\n",
      "Charges.Total: 6531\n"
     ]
    }
   ],
   "source": [
    "# Valores unicos por coluna\n",
    "for col in df.columns.tolist():\n",
    "    print(f'{col}: {df[col].nunique()}')"
   ]
  },
  {
   "cell_type": "markdown",
   "id": "22815d9c",
   "metadata": {},
   "source": [
    "#### Identificando as colunas com booleanas e efetuando a mudança de tipo\n",
    "\n",
    "Observando o comando acima com o .nunique(), fica claro que se tratam de colunas com valores booleanos que precisam de uma padronização, sendo assim, farei uma lista com todas as colunas que precisaram desse tratamento."
   ]
  },
  {
   "cell_type": "code",
   "execution_count": 15,
   "id": "756d7c90",
   "metadata": {},
   "outputs": [
    {
     "data": {
      "text/plain": [
       "['Churn',\n",
       " 'SeniorCitizen',\n",
       " 'Partner',\n",
       " 'Dependents',\n",
       " 'PhoneService',\n",
       " 'MultipleLines',\n",
       " 'OnlineSecurity',\n",
       " 'OnlineBackup',\n",
       " 'DeviceProtection',\n",
       " 'TechSupport',\n",
       " 'StreamingTV',\n",
       " 'StreamingMovies',\n",
       " 'PaperlessBilling']"
      ]
     },
     "execution_count": 15,
     "metadata": {},
     "output_type": "execute_result"
    }
   ],
   "source": [
    "# Churn, SeniorCitizen, Partner, Dependents, PhoneService, MultipleLines, OnlineSecurity, OnlineBackup, DeviceProtection, TechSupport, StreamingTV, StreamingMovies, PaperlessBilling\n",
    "\n",
    "# Esse list Compreension cria uma lista com nome de todas as colunas que tem o tamanho menor ou igual a 3, e seu primeiro elemento é um 'Yes' ou 'No' ou '1' ou '0'. Essas são as colunas booleanas do df.\n",
    "possible_bool_columns = [x for x in df.columns.tolist() if len(df[x].value_counts().to_list()) <= 3 and (df[x][0] == 'Yes' or df[x][0] == 'No' or df[x][0] == 0 or df[x][0] == 1)]\n",
    "\n",
    "possible_bool_columns"
   ]
  },
  {
   "cell_type": "markdown",
   "id": "322dce92",
   "metadata": {},
   "source": [
    "Dentro das colunas booleanas, existem colunas que precisam de um tratamento a mais além da conversão de tipo, e se for feita a conversão para o tipo bool diretamente, modificará o conteúdo das colunas, então vou criar uma segunda lista com as colunas que de fato podem ser diretamente convertidas para o tipo bool"
   ]
  },
  {
   "cell_type": "code",
   "execution_count": 16,
   "id": "3f2fe6ba",
   "metadata": {},
   "outputs": [
    {
     "data": {
      "text/plain": [
       "['Partner', 'Dependents', 'PhoneService', 'PaperlessBilling']"
      ]
     },
     "execution_count": 16,
     "metadata": {},
     "output_type": "execute_result"
    }
   ],
   "source": [
    "\n",
    "true_bool_columns = [x for x in df.columns.tolist() if len(df[x].value_counts().to_list()) == 2 and (df[x][0] == 'Yes' or df[x][0] == 'No')]\n",
    "true_bool_columns"
   ]
  },
  {
   "cell_type": "code",
   "execution_count": 17,
   "id": "6ed89ff4",
   "metadata": {},
   "outputs": [
    {
     "name": "stdout",
     "output_type": "stream",
     "text": [
      "Partner: Partner\n",
      "No     3749\n",
      "Yes    3518\n",
      "Name: count, dtype: int64\n",
      "Dependents: Dependents\n",
      "No     5086\n",
      "Yes    2181\n",
      "Name: count, dtype: int64\n",
      "PhoneService: PhoneService\n",
      "Yes    6560\n",
      "No      707\n",
      "Name: count, dtype: int64\n",
      "PaperlessBilling: PaperlessBilling\n",
      "Yes    4311\n",
      "No     2956\n",
      "Name: count, dtype: int64\n"
     ]
    }
   ],
   "source": [
    "# Verificando\n",
    "for x in true_bool_columns:\n",
    "    print(f'{x}: {df[x].value_counts()}')"
   ]
  },
  {
   "cell_type": "code",
   "execution_count": 18,
   "id": "6efee31f",
   "metadata": {},
   "outputs": [],
   "source": [
    "# As colunas da lista true_bool_columns podem ser diretamente convertidas para o tipo boolean, as demais colunas booleanas serão convertidas para seu tipo ideal com um tratamento mais detalhado\n",
    "# df[true_bool_columns] = df[true_bool_columns].map({'Yes': True, 'No': False})\n",
    "# df[true_bool_columns] = df[true_bool_columns].astype('boolean')\n",
    "\n",
    "for col in true_bool_columns:\n",
    "    df[col] = df[col].map({'Yes': True, 'No': False})\n",
    "    df[col] = df[col].astype('boolean')"
   ]
  },
  {
   "cell_type": "code",
   "execution_count": 19,
   "id": "58e64b95",
   "metadata": {},
   "outputs": [
    {
     "data": {
      "text/plain": [
       "Partner             boolean\n",
       "Dependents          boolean\n",
       "PhoneService        boolean\n",
       "PaperlessBilling    boolean\n",
       "dtype: object"
      ]
     },
     "execution_count": 19,
     "metadata": {},
     "output_type": "execute_result"
    }
   ],
   "source": [
    "# Verificando\n",
    "df[true_bool_columns].dtypes\n",
    "\n",
    "# As colunas 'Partner', 'Dependents', 'PhoneService', 'PaperlessBilling', agora são do tipo booleano"
   ]
  },
  {
   "cell_type": "code",
   "execution_count": 20,
   "id": "a6ff83f3",
   "metadata": {},
   "outputs": [
    {
     "name": "stdout",
     "output_type": "stream",
     "text": [
      "Partner: Partner\n",
      "False    3749\n",
      "True     3518\n",
      "Name: count, dtype: Int64\n",
      "==========================\n",
      "Dependents: Dependents\n",
      "False    5086\n",
      "True     2181\n",
      "Name: count, dtype: Int64\n",
      "==========================\n",
      "PhoneService: PhoneService\n",
      "True     6560\n",
      "False     707\n",
      "Name: count, dtype: Int64\n",
      "==========================\n",
      "PaperlessBilling: PaperlessBilling\n",
      "True     4311\n",
      "False    2956\n",
      "Name: count, dtype: Int64\n",
      "==========================\n"
     ]
    }
   ],
   "source": [
    "for x in true_bool_columns:\n",
    "    print(f'{x}: {df[x].value_counts()}')\n",
    "    print('==========================')"
   ]
  },
  {
   "cell_type": "markdown",
   "id": "2a0c10be",
   "metadata": {},
   "source": [
    "### Análise das colunas"
   ]
  },
  {
   "cell_type": "markdown",
   "id": "a1c1f69e",
   "metadata": {},
   "source": [
    "##### Análise da coluna __customerID__\n",
    "Essa coluna segundo o dicionário de dados trata da idêntificação única de cada cliente. É Composta por dados do tipo nnnn-LLLL, sendo \"n\" um número inteiro e \"L\" letras capitalizadas, os mesmo separados por um hífen. Não existem valores ausentes, duplicados ou dados inconsistentes nessa coluna.\n",
    "\n",
    "A parte numérica do __customerID__ com 4 dígitos está em sequência na coluna, o que indica que a mesma é um id gerado por inserção, a parte alphabética do __customerID__ com 5 caracteres capitalizados talvéz represente a abreviação do nome do cliente ou um código único."
   ]
  },
  {
   "cell_type": "markdown",
   "id": "dcb5101a",
   "metadata": {},
   "source": [
    "A coluna **account.Charges.Total** está como object (texto), mas deveria ser float. Há indícios de valores ausentes ou inválidos (provavelmente strings vazias ou espaços)"
   ]
  },
  {
   "cell_type": "code",
   "execution_count": 21,
   "id": "18d770dc",
   "metadata": {},
   "outputs": [
    {
     "data": {
      "text/plain": [
       "'número de identificação único de cada cliente'"
      ]
     },
     "execution_count": 21,
     "metadata": {},
     "output_type": "execute_result"
    }
   ],
   "source": [
    "dict_data.get('customerID')"
   ]
  },
  {
   "cell_type": "code",
   "execution_count": 22,
   "id": "3cbba626",
   "metadata": {},
   "outputs": [
    {
     "data": {
      "text/plain": [
       "True"
      ]
     },
     "execution_count": 22,
     "metadata": {},
     "output_type": "execute_result"
    }
   ],
   "source": [
    "# Cada valor da coluna é único.\n",
    "df['customerID'].is_unique"
   ]
  },
  {
   "cell_type": "markdown",
   "id": "5512c5ff",
   "metadata": {},
   "source": [
    "Criando um df secundario para fazer a derivação da coluna customerID, separando em duas colunas ('customer_number', 'customer_cod') a coluna 'customerID'"
   ]
  },
  {
   "cell_type": "code",
   "execution_count": 23,
   "id": "0d21a640",
   "metadata": {},
   "outputs": [],
   "source": [
    "df_secundary = df.copy()\n",
    "df_secundary[['customer_number', 'customer_cod']] = df_secundary['customerID'].str.split('-', expand=True)"
   ]
  },
  {
   "cell_type": "code",
   "execution_count": 24,
   "id": "a2273a31",
   "metadata": {},
   "outputs": [
    {
     "data": {
      "text/html": [
       "<div>\n",
       "<style scoped>\n",
       "    .dataframe tbody tr th:only-of-type {\n",
       "        vertical-align: middle;\n",
       "    }\n",
       "\n",
       "    .dataframe tbody tr th {\n",
       "        vertical-align: top;\n",
       "    }\n",
       "\n",
       "    .dataframe thead th {\n",
       "        text-align: right;\n",
       "    }\n",
       "</style>\n",
       "<table border=\"1\" class=\"dataframe\">\n",
       "  <thead>\n",
       "    <tr style=\"text-align: right;\">\n",
       "      <th></th>\n",
       "      <th>customer_number</th>\n",
       "      <th>customer_cod</th>\n",
       "    </tr>\n",
       "  </thead>\n",
       "  <tbody>\n",
       "    <tr>\n",
       "      <th>0</th>\n",
       "      <td>0002</td>\n",
       "      <td>ORFBO</td>\n",
       "    </tr>\n",
       "    <tr>\n",
       "      <th>1</th>\n",
       "      <td>0003</td>\n",
       "      <td>MKNFE</td>\n",
       "    </tr>\n",
       "    <tr>\n",
       "      <th>2</th>\n",
       "      <td>0004</td>\n",
       "      <td>TLHLJ</td>\n",
       "    </tr>\n",
       "    <tr>\n",
       "      <th>3</th>\n",
       "      <td>0011</td>\n",
       "      <td>IGKFF</td>\n",
       "    </tr>\n",
       "    <tr>\n",
       "      <th>4</th>\n",
       "      <td>0013</td>\n",
       "      <td>EXCHZ</td>\n",
       "    </tr>\n",
       "    <tr>\n",
       "      <th>...</th>\n",
       "      <td>...</td>\n",
       "      <td>...</td>\n",
       "    </tr>\n",
       "    <tr>\n",
       "      <th>7262</th>\n",
       "      <td>9987</td>\n",
       "      <td>LUTYD</td>\n",
       "    </tr>\n",
       "    <tr>\n",
       "      <th>7263</th>\n",
       "      <td>9992</td>\n",
       "      <td>RRAMN</td>\n",
       "    </tr>\n",
       "    <tr>\n",
       "      <th>7264</th>\n",
       "      <td>9992</td>\n",
       "      <td>UJOEL</td>\n",
       "    </tr>\n",
       "    <tr>\n",
       "      <th>7265</th>\n",
       "      <td>9993</td>\n",
       "      <td>LHIEB</td>\n",
       "    </tr>\n",
       "    <tr>\n",
       "      <th>7266</th>\n",
       "      <td>9995</td>\n",
       "      <td>HOTOH</td>\n",
       "    </tr>\n",
       "  </tbody>\n",
       "</table>\n",
       "<p>7267 rows × 2 columns</p>\n",
       "</div>"
      ],
      "text/plain": [
       "     customer_number customer_cod\n",
       "0               0002        ORFBO\n",
       "1               0003        MKNFE\n",
       "2               0004        TLHLJ\n",
       "3               0011        IGKFF\n",
       "4               0013        EXCHZ\n",
       "...              ...          ...\n",
       "7262            9987        LUTYD\n",
       "7263            9992        RRAMN\n",
       "7264            9992        UJOEL\n",
       "7265            9993        LHIEB\n",
       "7266            9995        HOTOH\n",
       "\n",
       "[7267 rows x 2 columns]"
      ]
     },
     "execution_count": 24,
     "metadata": {},
     "output_type": "execute_result"
    }
   ],
   "source": [
    "df_secundary[['customer_number', 'customer_cod']]"
   ]
  },
  {
   "cell_type": "code",
   "execution_count": 25,
   "id": "02d6543b",
   "metadata": {},
   "outputs": [
    {
     "data": {
      "text/plain": [
       "customer_number\n",
       "3096    5\n",
       "3097    5\n",
       "6734    5\n",
       "1866    5\n",
       "0621    5\n",
       "       ..\n",
       "0015    1\n",
       "0014    1\n",
       "0011    1\n",
       "0004    1\n",
       "0003    1\n",
       "Name: count, Length: 5194, dtype: int64"
      ]
     },
     "execution_count": 25,
     "metadata": {},
     "output_type": "execute_result"
    }
   ],
   "source": [
    "df_secundary['customer_number'].value_counts()"
   ]
  },
  {
   "cell_type": "code",
   "execution_count": 26,
   "id": "01b05c0a",
   "metadata": {},
   "outputs": [
    {
     "data": {
      "text/plain": [
       "customer_cod\n",
       "VUVJN    2\n",
       "GSODA    2\n",
       "CYWMH    2\n",
       "KYRCV    1\n",
       "MYYYZ    1\n",
       "        ..\n",
       "LXDEV    1\n",
       "YZZYM    1\n",
       "DIUUN    1\n",
       "KWFBM    1\n",
       "EHMNK    1\n",
       "Name: count, Length: 7264, dtype: int64"
      ]
     },
     "execution_count": 26,
     "metadata": {},
     "output_type": "execute_result"
    }
   ],
   "source": [
    "df_secundary['customer_cod'].value_counts()"
   ]
  },
  {
   "cell_type": "markdown",
   "id": "0c5f1bad",
   "metadata": {},
   "source": [
    "Análisando a agora coluna \"**customer_number**\", notei que existem valores duplicados, ou seja, a coluna se uma sequência por inserção, tem valores inconsistentes."
   ]
  },
  {
   "cell_type": "code",
   "execution_count": 27,
   "id": "1ea33d4f",
   "metadata": {},
   "outputs": [
    {
     "data": {
      "text/html": [
       "<div>\n",
       "<style scoped>\n",
       "    .dataframe tbody tr th:only-of-type {\n",
       "        vertical-align: middle;\n",
       "    }\n",
       "\n",
       "    .dataframe tbody tr th {\n",
       "        vertical-align: top;\n",
       "    }\n",
       "\n",
       "    .dataframe thead th {\n",
       "        text-align: right;\n",
       "    }\n",
       "</style>\n",
       "<table border=\"1\" class=\"dataframe\">\n",
       "  <thead>\n",
       "    <tr style=\"text-align: right;\">\n",
       "      <th></th>\n",
       "      <th>customerID</th>\n",
       "      <th>Churn</th>\n",
       "      <th>gender</th>\n",
       "      <th>SeniorCitizen</th>\n",
       "      <th>Partner</th>\n",
       "      <th>Dependents</th>\n",
       "      <th>tenure</th>\n",
       "      <th>PhoneService</th>\n",
       "      <th>MultipleLines</th>\n",
       "      <th>InternetService</th>\n",
       "      <th>...</th>\n",
       "      <th>TechSupport</th>\n",
       "      <th>StreamingTV</th>\n",
       "      <th>StreamingMovies</th>\n",
       "      <th>Contract</th>\n",
       "      <th>PaperlessBilling</th>\n",
       "      <th>PaymentMethod</th>\n",
       "      <th>Charges.Monthly</th>\n",
       "      <th>Charges.Total</th>\n",
       "      <th>customer_number</th>\n",
       "      <th>customer_cod</th>\n",
       "    </tr>\n",
       "  </thead>\n",
       "  <tbody>\n",
       "    <tr>\n",
       "      <th>2088</th>\n",
       "      <td>2931-VUVJN</td>\n",
       "      <td>No</td>\n",
       "      <td>Female</td>\n",
       "      <td>1</td>\n",
       "      <td>True</td>\n",
       "      <td>False</td>\n",
       "      <td>59</td>\n",
       "      <td>True</td>\n",
       "      <td>Yes</td>\n",
       "      <td>Fiber optic</td>\n",
       "      <td>...</td>\n",
       "      <td>Yes</td>\n",
       "      <td>No</td>\n",
       "      <td>No</td>\n",
       "      <td>One year</td>\n",
       "      <td>True</td>\n",
       "      <td>Electronic check</td>\n",
       "      <td>94.05</td>\n",
       "      <td>5483.9</td>\n",
       "      <td>2931</td>\n",
       "      <td>VUVJN</td>\n",
       "    </tr>\n",
       "    <tr>\n",
       "      <th>6185</th>\n",
       "      <td>8473-VUVJN</td>\n",
       "      <td>Yes</td>\n",
       "      <td>Male</td>\n",
       "      <td>1</td>\n",
       "      <td>False</td>\n",
       "      <td>False</td>\n",
       "      <td>1</td>\n",
       "      <td>True</td>\n",
       "      <td>Yes</td>\n",
       "      <td>Fiber optic</td>\n",
       "      <td>...</td>\n",
       "      <td>No</td>\n",
       "      <td>No</td>\n",
       "      <td>No</td>\n",
       "      <td>Month-to-month</td>\n",
       "      <td>True</td>\n",
       "      <td>Electronic check</td>\n",
       "      <td>73.65</td>\n",
       "      <td>73.65</td>\n",
       "      <td>8473</td>\n",
       "      <td>VUVJN</td>\n",
       "    </tr>\n",
       "  </tbody>\n",
       "</table>\n",
       "<p>2 rows × 23 columns</p>\n",
       "</div>"
      ],
      "text/plain": [
       "      customerID Churn  gender  SeniorCitizen  Partner  Dependents  tenure  \\\n",
       "2088  2931-VUVJN    No  Female              1     True       False      59   \n",
       "6185  8473-VUVJN   Yes    Male              1    False       False       1   \n",
       "\n",
       "      PhoneService MultipleLines InternetService  ... TechSupport StreamingTV  \\\n",
       "2088          True           Yes     Fiber optic  ...         Yes          No   \n",
       "6185          True           Yes     Fiber optic  ...          No          No   \n",
       "\n",
       "     StreamingMovies        Contract PaperlessBilling     PaymentMethod  \\\n",
       "2088              No        One year             True  Electronic check   \n",
       "6185              No  Month-to-month             True  Electronic check   \n",
       "\n",
       "     Charges.Monthly  Charges.Total customer_number  customer_cod  \n",
       "2088           94.05         5483.9            2931         VUVJN  \n",
       "6185           73.65          73.65            8473         VUVJN  \n",
       "\n",
       "[2 rows x 23 columns]"
      ]
     },
     "execution_count": 27,
     "metadata": {},
     "output_type": "execute_result"
    }
   ],
   "source": [
    "# Verificando a duplicidade dos dados\n",
    "df_secundary[df_secundary['customer_cod'].str.endswith('VUVJN')]"
   ]
  },
  {
   "cell_type": "markdown",
   "id": "1285d85f",
   "metadata": {},
   "source": [
    "Assim como também a coluna agora \"**customer_cod**\" que possui valores duplicados, mas como as mesmas fazer parte de um conjunto que é único, decidí não fazer mais alterações ou análise com base nesse novo dataframe até que eu possua mais informações a respeito de como esses dados foram gerados."
   ]
  },
  {
   "cell_type": "markdown",
   "id": "1c261e67",
   "metadata": {},
   "source": [
    "#### Análise da coluna __Churn__\n",
    "Essa colunas informa se o cliente deixou ou não a empresa. Sendo composta dos valores **Yes** para sim e **No** para não, ou seja, uma coluna com dados booleanos.  Observando a coluna com o método .value_counts(), notei que existem 224 valores ausentes, ou seja, strings vazias que precisarão ser tratadas.\n"
   ]
  },
  {
   "cell_type": "code",
   "execution_count": 28,
   "id": "f286d963",
   "metadata": {},
   "outputs": [
    {
     "data": {
      "text/plain": [
       "'se o cliente deixou ou não a empresa'"
      ]
     },
     "execution_count": 28,
     "metadata": {},
     "output_type": "execute_result"
    }
   ],
   "source": [
    "dict_data.get('Churn')"
   ]
  },
  {
   "cell_type": "code",
   "execution_count": 29,
   "id": "6cbf5603",
   "metadata": {},
   "outputs": [
    {
     "data": {
      "text/plain": [
       "Churn\n",
       "No     5174\n",
       "Yes    1869\n",
       "        224\n",
       "Name: count, dtype: int64"
      ]
     },
     "execution_count": 29,
     "metadata": {},
     "output_type": "execute_result"
    }
   ],
   "source": [
    "df['Churn'].value_counts()"
   ]
  },
  {
   "cell_type": "code",
   "execution_count": 30,
   "id": "725e2bb4",
   "metadata": {},
   "outputs": [
    {
     "data": {
      "text/html": [
       "<div>\n",
       "<style scoped>\n",
       "    .dataframe tbody tr th:only-of-type {\n",
       "        vertical-align: middle;\n",
       "    }\n",
       "\n",
       "    .dataframe tbody tr th {\n",
       "        vertical-align: top;\n",
       "    }\n",
       "\n",
       "    .dataframe thead th {\n",
       "        text-align: right;\n",
       "    }\n",
       "</style>\n",
       "<table border=\"1\" class=\"dataframe\">\n",
       "  <thead>\n",
       "    <tr style=\"text-align: right;\">\n",
       "      <th></th>\n",
       "      <th>customerID</th>\n",
       "      <th>Churn</th>\n",
       "      <th>gender</th>\n",
       "      <th>SeniorCitizen</th>\n",
       "      <th>Partner</th>\n",
       "      <th>Dependents</th>\n",
       "      <th>tenure</th>\n",
       "      <th>PhoneService</th>\n",
       "      <th>MultipleLines</th>\n",
       "      <th>InternetService</th>\n",
       "      <th>...</th>\n",
       "      <th>OnlineBackup</th>\n",
       "      <th>DeviceProtection</th>\n",
       "      <th>TechSupport</th>\n",
       "      <th>StreamingTV</th>\n",
       "      <th>StreamingMovies</th>\n",
       "      <th>Contract</th>\n",
       "      <th>PaperlessBilling</th>\n",
       "      <th>PaymentMethod</th>\n",
       "      <th>Charges.Monthly</th>\n",
       "      <th>Charges.Total</th>\n",
       "    </tr>\n",
       "  </thead>\n",
       "  <tbody>\n",
       "    <tr>\n",
       "      <th>30</th>\n",
       "      <td>0047-ZHDTW</td>\n",
       "      <td></td>\n",
       "      <td>Female</td>\n",
       "      <td>0</td>\n",
       "      <td>False</td>\n",
       "      <td>False</td>\n",
       "      <td>11</td>\n",
       "      <td>True</td>\n",
       "      <td>Yes</td>\n",
       "      <td>Fiber optic</td>\n",
       "      <td>...</td>\n",
       "      <td>No</td>\n",
       "      <td>No</td>\n",
       "      <td>No</td>\n",
       "      <td>No</td>\n",
       "      <td>No</td>\n",
       "      <td>Month-to-month</td>\n",
       "      <td>True</td>\n",
       "      <td>Bank transfer (automatic)</td>\n",
       "      <td>79.00</td>\n",
       "      <td>929.3</td>\n",
       "    </tr>\n",
       "    <tr>\n",
       "      <th>75</th>\n",
       "      <td>0120-YZLQA</td>\n",
       "      <td></td>\n",
       "      <td>Male</td>\n",
       "      <td>0</td>\n",
       "      <td>False</td>\n",
       "      <td>False</td>\n",
       "      <td>71</td>\n",
       "      <td>True</td>\n",
       "      <td>No</td>\n",
       "      <td>No</td>\n",
       "      <td>...</td>\n",
       "      <td>No internet service</td>\n",
       "      <td>No internet service</td>\n",
       "      <td>No internet service</td>\n",
       "      <td>No internet service</td>\n",
       "      <td>No internet service</td>\n",
       "      <td>Two year</td>\n",
       "      <td>True</td>\n",
       "      <td>Credit card (automatic)</td>\n",
       "      <td>19.90</td>\n",
       "      <td>1355.1</td>\n",
       "    </tr>\n",
       "    <tr>\n",
       "      <th>96</th>\n",
       "      <td>0154-QYHJU</td>\n",
       "      <td></td>\n",
       "      <td>Male</td>\n",
       "      <td>0</td>\n",
       "      <td>False</td>\n",
       "      <td>False</td>\n",
       "      <td>29</td>\n",
       "      <td>True</td>\n",
       "      <td>No</td>\n",
       "      <td>DSL</td>\n",
       "      <td>...</td>\n",
       "      <td>Yes</td>\n",
       "      <td>No</td>\n",
       "      <td>Yes</td>\n",
       "      <td>No</td>\n",
       "      <td>No</td>\n",
       "      <td>One year</td>\n",
       "      <td>True</td>\n",
       "      <td>Electronic check</td>\n",
       "      <td>58.75</td>\n",
       "      <td>1696.2</td>\n",
       "    </tr>\n",
       "    <tr>\n",
       "      <th>98</th>\n",
       "      <td>0162-RZGMZ</td>\n",
       "      <td></td>\n",
       "      <td>Female</td>\n",
       "      <td>1</td>\n",
       "      <td>False</td>\n",
       "      <td>False</td>\n",
       "      <td>5</td>\n",
       "      <td>True</td>\n",
       "      <td>No</td>\n",
       "      <td>DSL</td>\n",
       "      <td>...</td>\n",
       "      <td>Yes</td>\n",
       "      <td>No</td>\n",
       "      <td>Yes</td>\n",
       "      <td>No</td>\n",
       "      <td>No</td>\n",
       "      <td>Month-to-month</td>\n",
       "      <td>False</td>\n",
       "      <td>Credit card (automatic)</td>\n",
       "      <td>59.90</td>\n",
       "      <td>287.85</td>\n",
       "    </tr>\n",
       "    <tr>\n",
       "      <th>175</th>\n",
       "      <td>0274-VVQOQ</td>\n",
       "      <td></td>\n",
       "      <td>Male</td>\n",
       "      <td>1</td>\n",
       "      <td>True</td>\n",
       "      <td>False</td>\n",
       "      <td>65</td>\n",
       "      <td>True</td>\n",
       "      <td>Yes</td>\n",
       "      <td>Fiber optic</td>\n",
       "      <td>...</td>\n",
       "      <td>Yes</td>\n",
       "      <td>Yes</td>\n",
       "      <td>No</td>\n",
       "      <td>Yes</td>\n",
       "      <td>Yes</td>\n",
       "      <td>One year</td>\n",
       "      <td>True</td>\n",
       "      <td>Bank transfer (automatic)</td>\n",
       "      <td>103.15</td>\n",
       "      <td>6792.45</td>\n",
       "    </tr>\n",
       "    <tr>\n",
       "      <th>...</th>\n",
       "      <td>...</td>\n",
       "      <td>...</td>\n",
       "      <td>...</td>\n",
       "      <td>...</td>\n",
       "      <td>...</td>\n",
       "      <td>...</td>\n",
       "      <td>...</td>\n",
       "      <td>...</td>\n",
       "      <td>...</td>\n",
       "      <td>...</td>\n",
       "      <td>...</td>\n",
       "      <td>...</td>\n",
       "      <td>...</td>\n",
       "      <td>...</td>\n",
       "      <td>...</td>\n",
       "      <td>...</td>\n",
       "      <td>...</td>\n",
       "      <td>...</td>\n",
       "      <td>...</td>\n",
       "      <td>...</td>\n",
       "      <td>...</td>\n",
       "    </tr>\n",
       "    <tr>\n",
       "      <th>7158</th>\n",
       "      <td>9840-GSRFX</td>\n",
       "      <td></td>\n",
       "      <td>Female</td>\n",
       "      <td>0</td>\n",
       "      <td>False</td>\n",
       "      <td>False</td>\n",
       "      <td>14</td>\n",
       "      <td>True</td>\n",
       "      <td>Yes</td>\n",
       "      <td>DSL</td>\n",
       "      <td>...</td>\n",
       "      <td>Yes</td>\n",
       "      <td>No</td>\n",
       "      <td>No</td>\n",
       "      <td>No</td>\n",
       "      <td>No</td>\n",
       "      <td>One year</td>\n",
       "      <td>True</td>\n",
       "      <td>Mailed check</td>\n",
       "      <td>54.25</td>\n",
       "      <td>773.2</td>\n",
       "    </tr>\n",
       "    <tr>\n",
       "      <th>7180</th>\n",
       "      <td>9872-RZQQB</td>\n",
       "      <td></td>\n",
       "      <td>Female</td>\n",
       "      <td>0</td>\n",
       "      <td>True</td>\n",
       "      <td>False</td>\n",
       "      <td>49</td>\n",
       "      <td>False</td>\n",
       "      <td>No phone service</td>\n",
       "      <td>DSL</td>\n",
       "      <td>...</td>\n",
       "      <td>No</td>\n",
       "      <td>No</td>\n",
       "      <td>No</td>\n",
       "      <td>Yes</td>\n",
       "      <td>No</td>\n",
       "      <td>Month-to-month</td>\n",
       "      <td>False</td>\n",
       "      <td>Bank transfer (automatic)</td>\n",
       "      <td>40.65</td>\n",
       "      <td>2070.75</td>\n",
       "    </tr>\n",
       "    <tr>\n",
       "      <th>7211</th>\n",
       "      <td>9920-GNDMB</td>\n",
       "      <td></td>\n",
       "      <td>Male</td>\n",
       "      <td>0</td>\n",
       "      <td>False</td>\n",
       "      <td>False</td>\n",
       "      <td>9</td>\n",
       "      <td>True</td>\n",
       "      <td>Yes</td>\n",
       "      <td>Fiber optic</td>\n",
       "      <td>...</td>\n",
       "      <td>No</td>\n",
       "      <td>No</td>\n",
       "      <td>No</td>\n",
       "      <td>No</td>\n",
       "      <td>No</td>\n",
       "      <td>Month-to-month</td>\n",
       "      <td>True</td>\n",
       "      <td>Electronic check</td>\n",
       "      <td>76.25</td>\n",
       "      <td>684.85</td>\n",
       "    </tr>\n",
       "    <tr>\n",
       "      <th>7239</th>\n",
       "      <td>9955-RVWSC</td>\n",
       "      <td></td>\n",
       "      <td>Female</td>\n",
       "      <td>0</td>\n",
       "      <td>True</td>\n",
       "      <td>True</td>\n",
       "      <td>67</td>\n",
       "      <td>True</td>\n",
       "      <td>No</td>\n",
       "      <td>No</td>\n",
       "      <td>...</td>\n",
       "      <td>No internet service</td>\n",
       "      <td>No internet service</td>\n",
       "      <td>No internet service</td>\n",
       "      <td>No internet service</td>\n",
       "      <td>No internet service</td>\n",
       "      <td>Two year</td>\n",
       "      <td>True</td>\n",
       "      <td>Bank transfer (automatic)</td>\n",
       "      <td>19.25</td>\n",
       "      <td>1372.9</td>\n",
       "    </tr>\n",
       "    <tr>\n",
       "      <th>7247</th>\n",
       "      <td>9966-VYRTZ</td>\n",
       "      <td></td>\n",
       "      <td>Female</td>\n",
       "      <td>0</td>\n",
       "      <td>True</td>\n",
       "      <td>True</td>\n",
       "      <td>31</td>\n",
       "      <td>True</td>\n",
       "      <td>No</td>\n",
       "      <td>No</td>\n",
       "      <td>...</td>\n",
       "      <td>No internet service</td>\n",
       "      <td>No internet service</td>\n",
       "      <td>No internet service</td>\n",
       "      <td>No internet service</td>\n",
       "      <td>No internet service</td>\n",
       "      <td>Month-to-month</td>\n",
       "      <td>True</td>\n",
       "      <td>Mailed check</td>\n",
       "      <td>19.55</td>\n",
       "      <td>658.95</td>\n",
       "    </tr>\n",
       "  </tbody>\n",
       "</table>\n",
       "<p>224 rows × 21 columns</p>\n",
       "</div>"
      ],
      "text/plain": [
       "      customerID Churn  gender  SeniorCitizen  Partner  Dependents  tenure  \\\n",
       "30    0047-ZHDTW        Female              0    False       False      11   \n",
       "75    0120-YZLQA          Male              0    False       False      71   \n",
       "96    0154-QYHJU          Male              0    False       False      29   \n",
       "98    0162-RZGMZ        Female              1    False       False       5   \n",
       "175   0274-VVQOQ          Male              1     True       False      65   \n",
       "...          ...   ...     ...            ...      ...         ...     ...   \n",
       "7158  9840-GSRFX        Female              0    False       False      14   \n",
       "7180  9872-RZQQB        Female              0     True       False      49   \n",
       "7211  9920-GNDMB          Male              0    False       False       9   \n",
       "7239  9955-RVWSC        Female              0     True        True      67   \n",
       "7247  9966-VYRTZ        Female              0     True        True      31   \n",
       "\n",
       "      PhoneService     MultipleLines InternetService  ...  \\\n",
       "30            True               Yes     Fiber optic  ...   \n",
       "75            True                No              No  ...   \n",
       "96            True                No             DSL  ...   \n",
       "98            True                No             DSL  ...   \n",
       "175           True               Yes     Fiber optic  ...   \n",
       "...            ...               ...             ...  ...   \n",
       "7158          True               Yes             DSL  ...   \n",
       "7180         False  No phone service             DSL  ...   \n",
       "7211          True               Yes     Fiber optic  ...   \n",
       "7239          True                No              No  ...   \n",
       "7247          True                No              No  ...   \n",
       "\n",
       "             OnlineBackup     DeviceProtection          TechSupport  \\\n",
       "30                     No                   No                   No   \n",
       "75    No internet service  No internet service  No internet service   \n",
       "96                    Yes                   No                  Yes   \n",
       "98                    Yes                   No                  Yes   \n",
       "175                   Yes                  Yes                   No   \n",
       "...                   ...                  ...                  ...   \n",
       "7158                  Yes                   No                   No   \n",
       "7180                   No                   No                   No   \n",
       "7211                   No                   No                   No   \n",
       "7239  No internet service  No internet service  No internet service   \n",
       "7247  No internet service  No internet service  No internet service   \n",
       "\n",
       "              StreamingTV      StreamingMovies        Contract  \\\n",
       "30                     No                   No  Month-to-month   \n",
       "75    No internet service  No internet service        Two year   \n",
       "96                     No                   No        One year   \n",
       "98                     No                   No  Month-to-month   \n",
       "175                   Yes                  Yes        One year   \n",
       "...                   ...                  ...             ...   \n",
       "7158                   No                   No        One year   \n",
       "7180                  Yes                   No  Month-to-month   \n",
       "7211                   No                   No  Month-to-month   \n",
       "7239  No internet service  No internet service        Two year   \n",
       "7247  No internet service  No internet service  Month-to-month   \n",
       "\n",
       "     PaperlessBilling              PaymentMethod Charges.Monthly  \\\n",
       "30               True  Bank transfer (automatic)           79.00   \n",
       "75               True    Credit card (automatic)           19.90   \n",
       "96               True           Electronic check           58.75   \n",
       "98              False    Credit card (automatic)           59.90   \n",
       "175              True  Bank transfer (automatic)          103.15   \n",
       "...               ...                        ...             ...   \n",
       "7158             True               Mailed check           54.25   \n",
       "7180            False  Bank transfer (automatic)           40.65   \n",
       "7211             True           Electronic check           76.25   \n",
       "7239             True  Bank transfer (automatic)           19.25   \n",
       "7247             True               Mailed check           19.55   \n",
       "\n",
       "      Charges.Total  \n",
       "30            929.3  \n",
       "75           1355.1  \n",
       "96           1696.2  \n",
       "98           287.85  \n",
       "175         6792.45  \n",
       "...             ...  \n",
       "7158          773.2  \n",
       "7180        2070.75  \n",
       "7211         684.85  \n",
       "7239         1372.9  \n",
       "7247         658.95  \n",
       "\n",
       "[224 rows x 21 columns]"
      ]
     },
     "execution_count": 30,
     "metadata": {},
     "output_type": "execute_result"
    }
   ],
   "source": [
    "# Exibindo as linhas e analisando os dados\n",
    "df[df['Churn']=='']"
   ]
  },
  {
   "cell_type": "markdown",
   "id": "f48c47cd",
   "metadata": {},
   "source": [
    "##### Alterando as strings vazias para NaN\n",
    "\n",
    "Como os valores dessas strings são desconhecidos, o tratamento mais coerente e limpo para esses dados é tratá-los como  NaN(valores ausentes), para que futuras análises possam dar o tratamento adequado  como imputações, filtragens ou exclusão."
   ]
  },
  {
   "cell_type": "code",
   "execution_count": 31,
   "id": "63fa7efc",
   "metadata": {},
   "outputs": [],
   "source": [
    "# Alterando as strings vazias para NaN\n",
    "df['Churn'] = df['Churn'].replace('', np.nan) "
   ]
  },
  {
   "cell_type": "code",
   "execution_count": 32,
   "id": "e4951863",
   "metadata": {},
   "outputs": [
    {
     "data": {
      "text/plain": [
       "Churn\n",
       "No     5174\n",
       "Yes    1869\n",
       "Name: count, dtype: int64"
      ]
     },
     "execution_count": 32,
     "metadata": {},
     "output_type": "execute_result"
    }
   ],
   "source": [
    "# Verificando com value_counts()\n",
    "df['Churn'].value_counts()"
   ]
  },
  {
   "cell_type": "code",
   "execution_count": 33,
   "id": "20ae2ed2",
   "metadata": {},
   "outputs": [
    {
     "data": {
      "text/html": [
       "<div>\n",
       "<style scoped>\n",
       "    .dataframe tbody tr th:only-of-type {\n",
       "        vertical-align: middle;\n",
       "    }\n",
       "\n",
       "    .dataframe tbody tr th {\n",
       "        vertical-align: top;\n",
       "    }\n",
       "\n",
       "    .dataframe thead th {\n",
       "        text-align: right;\n",
       "    }\n",
       "</style>\n",
       "<table border=\"1\" class=\"dataframe\">\n",
       "  <thead>\n",
       "    <tr style=\"text-align: right;\">\n",
       "      <th></th>\n",
       "      <th>customerID</th>\n",
       "      <th>Churn</th>\n",
       "      <th>gender</th>\n",
       "      <th>SeniorCitizen</th>\n",
       "      <th>Partner</th>\n",
       "      <th>Dependents</th>\n",
       "      <th>tenure</th>\n",
       "      <th>PhoneService</th>\n",
       "      <th>MultipleLines</th>\n",
       "      <th>InternetService</th>\n",
       "      <th>...</th>\n",
       "      <th>OnlineBackup</th>\n",
       "      <th>DeviceProtection</th>\n",
       "      <th>TechSupport</th>\n",
       "      <th>StreamingTV</th>\n",
       "      <th>StreamingMovies</th>\n",
       "      <th>Contract</th>\n",
       "      <th>PaperlessBilling</th>\n",
       "      <th>PaymentMethod</th>\n",
       "      <th>Charges.Monthly</th>\n",
       "      <th>Charges.Total</th>\n",
       "    </tr>\n",
       "  </thead>\n",
       "  <tbody>\n",
       "    <tr>\n",
       "      <th>30</th>\n",
       "      <td>0047-ZHDTW</td>\n",
       "      <td>NaN</td>\n",
       "      <td>Female</td>\n",
       "      <td>0</td>\n",
       "      <td>False</td>\n",
       "      <td>False</td>\n",
       "      <td>11</td>\n",
       "      <td>True</td>\n",
       "      <td>Yes</td>\n",
       "      <td>Fiber optic</td>\n",
       "      <td>...</td>\n",
       "      <td>No</td>\n",
       "      <td>No</td>\n",
       "      <td>No</td>\n",
       "      <td>No</td>\n",
       "      <td>No</td>\n",
       "      <td>Month-to-month</td>\n",
       "      <td>True</td>\n",
       "      <td>Bank transfer (automatic)</td>\n",
       "      <td>79.00</td>\n",
       "      <td>929.3</td>\n",
       "    </tr>\n",
       "    <tr>\n",
       "      <th>75</th>\n",
       "      <td>0120-YZLQA</td>\n",
       "      <td>NaN</td>\n",
       "      <td>Male</td>\n",
       "      <td>0</td>\n",
       "      <td>False</td>\n",
       "      <td>False</td>\n",
       "      <td>71</td>\n",
       "      <td>True</td>\n",
       "      <td>No</td>\n",
       "      <td>No</td>\n",
       "      <td>...</td>\n",
       "      <td>No internet service</td>\n",
       "      <td>No internet service</td>\n",
       "      <td>No internet service</td>\n",
       "      <td>No internet service</td>\n",
       "      <td>No internet service</td>\n",
       "      <td>Two year</td>\n",
       "      <td>True</td>\n",
       "      <td>Credit card (automatic)</td>\n",
       "      <td>19.90</td>\n",
       "      <td>1355.1</td>\n",
       "    </tr>\n",
       "    <tr>\n",
       "      <th>96</th>\n",
       "      <td>0154-QYHJU</td>\n",
       "      <td>NaN</td>\n",
       "      <td>Male</td>\n",
       "      <td>0</td>\n",
       "      <td>False</td>\n",
       "      <td>False</td>\n",
       "      <td>29</td>\n",
       "      <td>True</td>\n",
       "      <td>No</td>\n",
       "      <td>DSL</td>\n",
       "      <td>...</td>\n",
       "      <td>Yes</td>\n",
       "      <td>No</td>\n",
       "      <td>Yes</td>\n",
       "      <td>No</td>\n",
       "      <td>No</td>\n",
       "      <td>One year</td>\n",
       "      <td>True</td>\n",
       "      <td>Electronic check</td>\n",
       "      <td>58.75</td>\n",
       "      <td>1696.2</td>\n",
       "    </tr>\n",
       "    <tr>\n",
       "      <th>98</th>\n",
       "      <td>0162-RZGMZ</td>\n",
       "      <td>NaN</td>\n",
       "      <td>Female</td>\n",
       "      <td>1</td>\n",
       "      <td>False</td>\n",
       "      <td>False</td>\n",
       "      <td>5</td>\n",
       "      <td>True</td>\n",
       "      <td>No</td>\n",
       "      <td>DSL</td>\n",
       "      <td>...</td>\n",
       "      <td>Yes</td>\n",
       "      <td>No</td>\n",
       "      <td>Yes</td>\n",
       "      <td>No</td>\n",
       "      <td>No</td>\n",
       "      <td>Month-to-month</td>\n",
       "      <td>False</td>\n",
       "      <td>Credit card (automatic)</td>\n",
       "      <td>59.90</td>\n",
       "      <td>287.85</td>\n",
       "    </tr>\n",
       "    <tr>\n",
       "      <th>175</th>\n",
       "      <td>0274-VVQOQ</td>\n",
       "      <td>NaN</td>\n",
       "      <td>Male</td>\n",
       "      <td>1</td>\n",
       "      <td>True</td>\n",
       "      <td>False</td>\n",
       "      <td>65</td>\n",
       "      <td>True</td>\n",
       "      <td>Yes</td>\n",
       "      <td>Fiber optic</td>\n",
       "      <td>...</td>\n",
       "      <td>Yes</td>\n",
       "      <td>Yes</td>\n",
       "      <td>No</td>\n",
       "      <td>Yes</td>\n",
       "      <td>Yes</td>\n",
       "      <td>One year</td>\n",
       "      <td>True</td>\n",
       "      <td>Bank transfer (automatic)</td>\n",
       "      <td>103.15</td>\n",
       "      <td>6792.45</td>\n",
       "    </tr>\n",
       "    <tr>\n",
       "      <th>...</th>\n",
       "      <td>...</td>\n",
       "      <td>...</td>\n",
       "      <td>...</td>\n",
       "      <td>...</td>\n",
       "      <td>...</td>\n",
       "      <td>...</td>\n",
       "      <td>...</td>\n",
       "      <td>...</td>\n",
       "      <td>...</td>\n",
       "      <td>...</td>\n",
       "      <td>...</td>\n",
       "      <td>...</td>\n",
       "      <td>...</td>\n",
       "      <td>...</td>\n",
       "      <td>...</td>\n",
       "      <td>...</td>\n",
       "      <td>...</td>\n",
       "      <td>...</td>\n",
       "      <td>...</td>\n",
       "      <td>...</td>\n",
       "      <td>...</td>\n",
       "    </tr>\n",
       "    <tr>\n",
       "      <th>7158</th>\n",
       "      <td>9840-GSRFX</td>\n",
       "      <td>NaN</td>\n",
       "      <td>Female</td>\n",
       "      <td>0</td>\n",
       "      <td>False</td>\n",
       "      <td>False</td>\n",
       "      <td>14</td>\n",
       "      <td>True</td>\n",
       "      <td>Yes</td>\n",
       "      <td>DSL</td>\n",
       "      <td>...</td>\n",
       "      <td>Yes</td>\n",
       "      <td>No</td>\n",
       "      <td>No</td>\n",
       "      <td>No</td>\n",
       "      <td>No</td>\n",
       "      <td>One year</td>\n",
       "      <td>True</td>\n",
       "      <td>Mailed check</td>\n",
       "      <td>54.25</td>\n",
       "      <td>773.2</td>\n",
       "    </tr>\n",
       "    <tr>\n",
       "      <th>7180</th>\n",
       "      <td>9872-RZQQB</td>\n",
       "      <td>NaN</td>\n",
       "      <td>Female</td>\n",
       "      <td>0</td>\n",
       "      <td>True</td>\n",
       "      <td>False</td>\n",
       "      <td>49</td>\n",
       "      <td>False</td>\n",
       "      <td>No phone service</td>\n",
       "      <td>DSL</td>\n",
       "      <td>...</td>\n",
       "      <td>No</td>\n",
       "      <td>No</td>\n",
       "      <td>No</td>\n",
       "      <td>Yes</td>\n",
       "      <td>No</td>\n",
       "      <td>Month-to-month</td>\n",
       "      <td>False</td>\n",
       "      <td>Bank transfer (automatic)</td>\n",
       "      <td>40.65</td>\n",
       "      <td>2070.75</td>\n",
       "    </tr>\n",
       "    <tr>\n",
       "      <th>7211</th>\n",
       "      <td>9920-GNDMB</td>\n",
       "      <td>NaN</td>\n",
       "      <td>Male</td>\n",
       "      <td>0</td>\n",
       "      <td>False</td>\n",
       "      <td>False</td>\n",
       "      <td>9</td>\n",
       "      <td>True</td>\n",
       "      <td>Yes</td>\n",
       "      <td>Fiber optic</td>\n",
       "      <td>...</td>\n",
       "      <td>No</td>\n",
       "      <td>No</td>\n",
       "      <td>No</td>\n",
       "      <td>No</td>\n",
       "      <td>No</td>\n",
       "      <td>Month-to-month</td>\n",
       "      <td>True</td>\n",
       "      <td>Electronic check</td>\n",
       "      <td>76.25</td>\n",
       "      <td>684.85</td>\n",
       "    </tr>\n",
       "    <tr>\n",
       "      <th>7239</th>\n",
       "      <td>9955-RVWSC</td>\n",
       "      <td>NaN</td>\n",
       "      <td>Female</td>\n",
       "      <td>0</td>\n",
       "      <td>True</td>\n",
       "      <td>True</td>\n",
       "      <td>67</td>\n",
       "      <td>True</td>\n",
       "      <td>No</td>\n",
       "      <td>No</td>\n",
       "      <td>...</td>\n",
       "      <td>No internet service</td>\n",
       "      <td>No internet service</td>\n",
       "      <td>No internet service</td>\n",
       "      <td>No internet service</td>\n",
       "      <td>No internet service</td>\n",
       "      <td>Two year</td>\n",
       "      <td>True</td>\n",
       "      <td>Bank transfer (automatic)</td>\n",
       "      <td>19.25</td>\n",
       "      <td>1372.9</td>\n",
       "    </tr>\n",
       "    <tr>\n",
       "      <th>7247</th>\n",
       "      <td>9966-VYRTZ</td>\n",
       "      <td>NaN</td>\n",
       "      <td>Female</td>\n",
       "      <td>0</td>\n",
       "      <td>True</td>\n",
       "      <td>True</td>\n",
       "      <td>31</td>\n",
       "      <td>True</td>\n",
       "      <td>No</td>\n",
       "      <td>No</td>\n",
       "      <td>...</td>\n",
       "      <td>No internet service</td>\n",
       "      <td>No internet service</td>\n",
       "      <td>No internet service</td>\n",
       "      <td>No internet service</td>\n",
       "      <td>No internet service</td>\n",
       "      <td>Month-to-month</td>\n",
       "      <td>True</td>\n",
       "      <td>Mailed check</td>\n",
       "      <td>19.55</td>\n",
       "      <td>658.95</td>\n",
       "    </tr>\n",
       "  </tbody>\n",
       "</table>\n",
       "<p>224 rows × 21 columns</p>\n",
       "</div>"
      ],
      "text/plain": [
       "      customerID Churn  gender  SeniorCitizen  Partner  Dependents  tenure  \\\n",
       "30    0047-ZHDTW   NaN  Female              0    False       False      11   \n",
       "75    0120-YZLQA   NaN    Male              0    False       False      71   \n",
       "96    0154-QYHJU   NaN    Male              0    False       False      29   \n",
       "98    0162-RZGMZ   NaN  Female              1    False       False       5   \n",
       "175   0274-VVQOQ   NaN    Male              1     True       False      65   \n",
       "...          ...   ...     ...            ...      ...         ...     ...   \n",
       "7158  9840-GSRFX   NaN  Female              0    False       False      14   \n",
       "7180  9872-RZQQB   NaN  Female              0     True       False      49   \n",
       "7211  9920-GNDMB   NaN    Male              0    False       False       9   \n",
       "7239  9955-RVWSC   NaN  Female              0     True        True      67   \n",
       "7247  9966-VYRTZ   NaN  Female              0     True        True      31   \n",
       "\n",
       "      PhoneService     MultipleLines InternetService  ...  \\\n",
       "30            True               Yes     Fiber optic  ...   \n",
       "75            True                No              No  ...   \n",
       "96            True                No             DSL  ...   \n",
       "98            True                No             DSL  ...   \n",
       "175           True               Yes     Fiber optic  ...   \n",
       "...            ...               ...             ...  ...   \n",
       "7158          True               Yes             DSL  ...   \n",
       "7180         False  No phone service             DSL  ...   \n",
       "7211          True               Yes     Fiber optic  ...   \n",
       "7239          True                No              No  ...   \n",
       "7247          True                No              No  ...   \n",
       "\n",
       "             OnlineBackup     DeviceProtection          TechSupport  \\\n",
       "30                     No                   No                   No   \n",
       "75    No internet service  No internet service  No internet service   \n",
       "96                    Yes                   No                  Yes   \n",
       "98                    Yes                   No                  Yes   \n",
       "175                   Yes                  Yes                   No   \n",
       "...                   ...                  ...                  ...   \n",
       "7158                  Yes                   No                   No   \n",
       "7180                   No                   No                   No   \n",
       "7211                   No                   No                   No   \n",
       "7239  No internet service  No internet service  No internet service   \n",
       "7247  No internet service  No internet service  No internet service   \n",
       "\n",
       "              StreamingTV      StreamingMovies        Contract  \\\n",
       "30                     No                   No  Month-to-month   \n",
       "75    No internet service  No internet service        Two year   \n",
       "96                     No                   No        One year   \n",
       "98                     No                   No  Month-to-month   \n",
       "175                   Yes                  Yes        One year   \n",
       "...                   ...                  ...             ...   \n",
       "7158                   No                   No        One year   \n",
       "7180                  Yes                   No  Month-to-month   \n",
       "7211                   No                   No  Month-to-month   \n",
       "7239  No internet service  No internet service        Two year   \n",
       "7247  No internet service  No internet service  Month-to-month   \n",
       "\n",
       "     PaperlessBilling              PaymentMethod Charges.Monthly  \\\n",
       "30               True  Bank transfer (automatic)           79.00   \n",
       "75               True    Credit card (automatic)           19.90   \n",
       "96               True           Electronic check           58.75   \n",
       "98              False    Credit card (automatic)           59.90   \n",
       "175              True  Bank transfer (automatic)          103.15   \n",
       "...               ...                        ...             ...   \n",
       "7158             True               Mailed check           54.25   \n",
       "7180            False  Bank transfer (automatic)           40.65   \n",
       "7211             True           Electronic check           76.25   \n",
       "7239             True  Bank transfer (automatic)           19.25   \n",
       "7247             True               Mailed check           19.55   \n",
       "\n",
       "      Charges.Total  \n",
       "30            929.3  \n",
       "75           1355.1  \n",
       "96           1696.2  \n",
       "98           287.85  \n",
       "175         6792.45  \n",
       "...             ...  \n",
       "7158          773.2  \n",
       "7180        2070.75  \n",
       "7211         684.85  \n",
       "7239         1372.9  \n",
       "7247         658.95  \n",
       "\n",
       "[224 rows x 21 columns]"
      ]
     },
     "execution_count": 33,
     "metadata": {},
     "output_type": "execute_result"
    }
   ],
   "source": [
    "# Verificando as linhas alteradas\n",
    "df[df['Churn'].isna()]"
   ]
  },
  {
   "cell_type": "markdown",
   "id": "36e0e07d",
   "metadata": {},
   "source": [
    "Ainda na coluna Churn, como se trata de uma colunas de valores booleanos, mudarei seu tipo para boolean tratando valores Yes como True e No como False"
   ]
  },
  {
   "cell_type": "code",
   "execution_count": 34,
   "id": "7bbf346c",
   "metadata": {},
   "outputs": [],
   "source": [
    "# Transformando em True e False\n",
    "df['Churn'] = df['Churn'].map({'Yes': True, 'No': False}) "
   ]
  },
  {
   "cell_type": "code",
   "execution_count": 35,
   "id": "eec54e8a",
   "metadata": {},
   "outputs": [
    {
     "data": {
      "text/plain": [
       "Churn\n",
       "False    5174\n",
       "True     1869\n",
       "Name: count, dtype: int64"
      ]
     },
     "execution_count": 35,
     "metadata": {},
     "output_type": "execute_result"
    }
   ],
   "source": [
    "#Verificando as alterações\n",
    "df['Churn'].value_counts()"
   ]
  },
  {
   "cell_type": "markdown",
   "id": "eea4fed8",
   "metadata": {},
   "source": [
    "Após a alteração dos valores para True e False, mudarei o tipo da coluna para boolean, pois embora mudando os valores para True e False, o tipo da coluna ainda está como object.\n",
    "\n",
    "A melhor forma de fazer essa alteração para valores NaN é utilizar o pd.BooleanDtype(), que é especializado para lhe dar com dipos NaN para booleanos."
   ]
  },
  {
   "cell_type": "code",
   "execution_count": 36,
   "id": "f4d77798",
   "metadata": {},
   "outputs": [],
   "source": [
    "df['Churn'] = df['Churn'].astype('boolean')"
   ]
  },
  {
   "cell_type": "code",
   "execution_count": 37,
   "id": "89e11069",
   "metadata": {},
   "outputs": [
    {
     "data": {
      "text/plain": [
       "Churn\n",
       "False    5174\n",
       "True     1869\n",
       "Name: count, dtype: Int64"
      ]
     },
     "execution_count": 37,
     "metadata": {},
     "output_type": "execute_result"
    }
   ],
   "source": [
    "df['Churn'].value_counts()"
   ]
  },
  {
   "cell_type": "code",
   "execution_count": 38,
   "id": "c5199eda",
   "metadata": {},
   "outputs": [
    {
     "data": {
      "text/plain": [
       "BooleanDtype"
      ]
     },
     "execution_count": 38,
     "metadata": {},
     "output_type": "execute_result"
    }
   ],
   "source": [
    "# Verificando \n",
    "df['Churn'].dtype"
   ]
  },
  {
   "cell_type": "markdown",
   "id": "4d807b20",
   "metadata": {},
   "source": [
    "### Análise da coluna __gender__\n",
    "\n",
    "A coluna gender é uma coluna categórica que informa o gênero do cliente(Masculino e feminino). Está completa de dados sem valores ausentes ou dados inconsistentes. Nela farei apenas a padronização dos dados para que todos estejam lowercase para otimização da análise, modelagem e visualização posterior."
   ]
  },
  {
   "cell_type": "code",
   "execution_count": 39,
   "id": "3954ea0b",
   "metadata": {},
   "outputs": [
    {
     "data": {
      "text/plain": [
       "'gênero (masculino e feminino)'"
      ]
     },
     "execution_count": 39,
     "metadata": {},
     "output_type": "execute_result"
    }
   ],
   "source": [
    "dict_data.get('gender')"
   ]
  },
  {
   "cell_type": "code",
   "execution_count": 40,
   "id": "415a60ad",
   "metadata": {},
   "outputs": [
    {
     "data": {
      "text/plain": [
       "gender\n",
       "Male      3675\n",
       "Female    3592\n",
       "Name: count, dtype: int64"
      ]
     },
     "execution_count": 40,
     "metadata": {},
     "output_type": "execute_result"
    }
   ],
   "source": [
    "df['gender'].value_counts()"
   ]
  },
  {
   "cell_type": "code",
   "execution_count": 41,
   "id": "f91f1a55",
   "metadata": {},
   "outputs": [],
   "source": [
    "# Normalizando valores, deixando todos lowercase, removendo espaços em branco.\n",
    "df['gender'] = df['gender'].str.strip().str.lower() "
   ]
  },
  {
   "cell_type": "code",
   "execution_count": 42,
   "id": "ba83d306",
   "metadata": {},
   "outputs": [
    {
     "data": {
      "text/plain": [
       "gender\n",
       "male      3675\n",
       "female    3592\n",
       "Name: count, dtype: int64"
      ]
     },
     "execution_count": 42,
     "metadata": {},
     "output_type": "execute_result"
    }
   ],
   "source": [
    "# Verificando\n",
    "df['gender'].value_counts()"
   ]
  },
  {
   "cell_type": "markdown",
   "id": "1c564551",
   "metadata": {},
   "source": [
    "##### Análise da coluna __SeniorCitizen__\n",
    "\n",
    "Essa coluna, segundo o dicionário de dados informa a se o cliente tem ou não mais de 65 anos de idade. É composta por valores 0 e 1, onde zero é False, ou seja, o cliente está abaixo da idade de 65 anos e 1 é True, o cliente está na idade igual ou maior que 65 anos. Trata-se então de uma coluna booleana."
   ]
  },
  {
   "cell_type": "code",
   "execution_count": 43,
   "id": "c656f1df",
   "metadata": {},
   "outputs": [
    {
     "data": {
      "text/plain": [
       "' informação sobre um cliente ter ou não idade igual ou maior que 65 anos '"
      ]
     },
     "execution_count": 43,
     "metadata": {},
     "output_type": "execute_result"
    }
   ],
   "source": [
    "dict_data.get('SeniorCitizen')"
   ]
  },
  {
   "cell_type": "code",
   "execution_count": 44,
   "id": "96924f49",
   "metadata": {},
   "outputs": [
    {
     "data": {
      "text/plain": [
       "SeniorCitizen\n",
       "0    6085\n",
       "1    1182\n",
       "Name: count, dtype: int64"
      ]
     },
     "execution_count": 44,
     "metadata": {},
     "output_type": "execute_result"
    }
   ],
   "source": [
    "# Contagem de cada valor na coluna\n",
    "df['SeniorCitizen'].value_counts()"
   ]
  },
  {
   "cell_type": "code",
   "execution_count": 45,
   "id": "391c56c7",
   "metadata": {},
   "outputs": [
    {
     "data": {
      "text/plain": [
       "np.int64(0)"
      ]
     },
     "execution_count": 45,
     "metadata": {},
     "output_type": "execute_result"
    }
   ],
   "source": [
    "# Nulos e NaN\n",
    "df['SeniorCitizen'].isnull().sum() + df['SeniorCitizen'].isna().sum()"
   ]
  },
  {
   "cell_type": "markdown",
   "id": "63549b03",
   "metadata": {},
   "source": [
    "Para manter um padrão, como na coluna Chunh que também é booleana e possui valores True e False, vou manter esse padrão e atribuir os valores True/False para todas as colunas booleanas"
   ]
  },
  {
   "cell_type": "code",
   "execution_count": 46,
   "id": "8f2e13e6",
   "metadata": {},
   "outputs": [],
   "source": [
    "df['SeniorCitizen'] = df['SeniorCitizen'].astype(bool)"
   ]
  },
  {
   "cell_type": "code",
   "execution_count": 47,
   "id": "8367740e",
   "metadata": {},
   "outputs": [
    {
     "data": {
      "text/plain": [
       "SeniorCitizen\n",
       "False    6085\n",
       "True     1182\n",
       "Name: count, dtype: int64"
      ]
     },
     "execution_count": 47,
     "metadata": {},
     "output_type": "execute_result"
    }
   ],
   "source": [
    "df['SeniorCitizen'].value_counts()"
   ]
  },
  {
   "cell_type": "code",
   "execution_count": 48,
   "id": "27d44ce1",
   "metadata": {},
   "outputs": [
    {
     "data": {
      "text/plain": [
       "dtype('bool')"
      ]
     },
     "execution_count": 48,
     "metadata": {},
     "output_type": "execute_result"
    }
   ],
   "source": [
    "df['SeniorCitizen'].dtype"
   ]
  },
  {
   "cell_type": "markdown",
   "id": "1793dc66",
   "metadata": {},
   "source": [
    "#### Análise da coluna Partner\n",
    "\n",
    "Segundo o dicionário de dados, essa colunas informa se o cliente possui ou não um parceiro. Ela está na lista das colunas que foram convertidas o tipo diretamente para boolean."
   ]
  },
  {
   "cell_type": "code",
   "execution_count": 49,
   "id": "bcce0e04",
   "metadata": {},
   "outputs": [
    {
     "data": {
      "text/plain": [
       "'Partner'"
      ]
     },
     "execution_count": 49,
     "metadata": {},
     "output_type": "execute_result"
    }
   ],
   "source": [
    "true_bool_columns[0]"
   ]
  },
  {
   "cell_type": "code",
   "execution_count": 50,
   "id": "d50e3663",
   "metadata": {},
   "outputs": [
    {
     "data": {
      "text/plain": [
       "Partner\n",
       "False    3749\n",
       "True     3518\n",
       "Name: count, dtype: Int64"
      ]
     },
     "execution_count": 50,
     "metadata": {},
     "output_type": "execute_result"
    }
   ],
   "source": [
    "df['Partner'].value_counts()"
   ]
  },
  {
   "cell_type": "code",
   "execution_count": 51,
   "id": "d907568c",
   "metadata": {},
   "outputs": [
    {
     "data": {
      "text/plain": [
       "'se o cliente possui ou não um parceiro ou parceira'"
      ]
     },
     "execution_count": 51,
     "metadata": {},
     "output_type": "execute_result"
    }
   ],
   "source": [
    "dict_data.get('Partner')"
   ]
  },
  {
   "cell_type": "markdown",
   "id": "cbd2bb6f",
   "metadata": {},
   "source": [
    "### Análise da coluna __Dependents__"
   ]
  },
  {
   "cell_type": "code",
   "execution_count": 52,
   "id": "63660589",
   "metadata": {},
   "outputs": [
    {
     "data": {
      "text/plain": [
       "'se o cliente possui ou não dependentes'"
      ]
     },
     "execution_count": 52,
     "metadata": {},
     "output_type": "execute_result"
    }
   ],
   "source": [
    "dict_data.get('Dependents')"
   ]
  },
  {
   "cell_type": "code",
   "execution_count": 53,
   "id": "774a84df",
   "metadata": {},
   "outputs": [
    {
     "data": {
      "text/plain": [
       "['Partner', 'Dependents', 'PhoneService', 'PaperlessBilling']"
      ]
     },
     "execution_count": 53,
     "metadata": {},
     "output_type": "execute_result"
    }
   ],
   "source": [
    "true_bool_columns"
   ]
  },
  {
   "cell_type": "code",
   "execution_count": 54,
   "id": "a7898d25",
   "metadata": {},
   "outputs": [
    {
     "data": {
      "text/plain": [
       "Dependents\n",
       "False    5086\n",
       "True     2181\n",
       "Name: count, dtype: Int64"
      ]
     },
     "execution_count": 54,
     "metadata": {},
     "output_type": "execute_result"
    }
   ],
   "source": [
    "df['Dependents'].value_counts()"
   ]
  },
  {
   "cell_type": "code",
   "execution_count": 55,
   "id": "ba26c2d0",
   "metadata": {},
   "outputs": [
    {
     "data": {
      "text/plain": [
       "Index(['customerID', 'Churn', 'gender', 'SeniorCitizen', 'Partner',\n",
       "       'Dependents', 'tenure', 'PhoneService', 'MultipleLines',\n",
       "       'InternetService', 'OnlineSecurity', 'OnlineBackup', 'DeviceProtection',\n",
       "       'TechSupport', 'StreamingTV', 'StreamingMovies', 'Contract',\n",
       "       'PaperlessBilling', 'PaymentMethod', 'Charges.Monthly',\n",
       "       'Charges.Total'],\n",
       "      dtype='object')"
      ]
     },
     "execution_count": 55,
     "metadata": {},
     "output_type": "execute_result"
    }
   ],
   "source": [
    "df.columns"
   ]
  },
  {
   "cell_type": "markdown",
   "id": "9e6d0a1a",
   "metadata": {},
   "source": [
    "### Análise da coluna __Tenure__\n",
    "\n",
    "Segundo o dicionário de dados, essa coluna registra a quantidade de meses que o cliente tem contrato com a empresa."
   ]
  },
  {
   "cell_type": "code",
   "execution_count": 56,
   "id": "c5031ee5",
   "metadata": {},
   "outputs": [
    {
     "data": {
      "text/plain": [
       "' meses de contrato do cliente'"
      ]
     },
     "execution_count": 56,
     "metadata": {},
     "output_type": "execute_result"
    }
   ],
   "source": [
    "dict_data.get('tenure')"
   ]
  },
  {
   "cell_type": "code",
   "execution_count": 57,
   "id": "40a53abe",
   "metadata": {},
   "outputs": [
    {
     "data": {
      "text/plain": [
       "tenure\n",
       "1     634\n",
       "72    369\n",
       "2     246\n",
       "3     207\n",
       "4     185\n",
       "     ... \n",
       "28     60\n",
       "39     59\n",
       "44     54\n",
       "36     50\n",
       "0      11\n",
       "Name: count, Length: 73, dtype: int64"
      ]
     },
     "execution_count": 57,
     "metadata": {},
     "output_type": "execute_result"
    }
   ],
   "source": [
    "df['tenure'].value_counts()"
   ]
  },
  {
   "cell_type": "markdown",
   "id": "b7e612ab",
   "metadata": {},
   "source": [
    "### Análise da coluna __PhoneService__\n",
    "\n",
    "Coluna booleana que indica se o cliente possui serviços telefônicos em seu contrato."
   ]
  },
  {
   "cell_type": "code",
   "execution_count": 58,
   "id": "0047e793",
   "metadata": {},
   "outputs": [
    {
     "data": {
      "text/plain": [
       "'assinatura de serviço telefônico'"
      ]
     },
     "execution_count": 58,
     "metadata": {},
     "output_type": "execute_result"
    }
   ],
   "source": [
    "dict_data.get('PhoneService')"
   ]
  },
  {
   "cell_type": "code",
   "execution_count": 59,
   "id": "a29ae465",
   "metadata": {},
   "outputs": [
    {
     "data": {
      "text/plain": [
       "PhoneService\n",
       "True     6560\n",
       "False     707\n",
       "Name: count, dtype: Int64"
      ]
     },
     "execution_count": 59,
     "metadata": {},
     "output_type": "execute_result"
    }
   ],
   "source": [
    "df['PhoneService'].value_counts()"
   ]
  },
  {
   "cell_type": "markdown",
   "id": "39bdb449",
   "metadata": {},
   "source": [
    "### Análise da coluna __MultipleLines__\n",
    "\n",
    "Coluna booleana que indica se o cliente tem multiplas linhas em seu contrato. Além dos valores padrões booleanos \"Yes/No\", possui 707 valores \"No phone service\" que para padronização dos dados, serão tratados como No na coluna.\n",
    "\n"
   ]
  },
  {
   "cell_type": "code",
   "execution_count": 60,
   "id": "c4c10e41",
   "metadata": {},
   "outputs": [
    {
     "data": {
      "text/plain": [
       "'assisnatura de mais de uma linha de telefone'"
      ]
     },
     "execution_count": 60,
     "metadata": {},
     "output_type": "execute_result"
    }
   ],
   "source": [
    "dict_data.get('MultipleLines')"
   ]
  },
  {
   "cell_type": "code",
   "execution_count": 61,
   "id": "5bd1031b",
   "metadata": {},
   "outputs": [
    {
     "data": {
      "text/plain": [
       "MultipleLines\n",
       "No                  3495\n",
       "Yes                 3065\n",
       "No phone service     707\n",
       "Name: count, dtype: int64"
      ]
     },
     "execution_count": 61,
     "metadata": {},
     "output_type": "execute_result"
    }
   ],
   "source": [
    "df['MultipleLines'].value_counts()"
   ]
  },
  {
   "cell_type": "code",
   "execution_count": 62,
   "id": "58a453d4",
   "metadata": {},
   "outputs": [],
   "source": [
    "df['MultipleLines'] = df['MultipleLines'].str.strip().str.lower().map({\n",
    "    'yes': True,\n",
    "    'no': False,\n",
    "    'no phone service': False \n",
    "})\n"
   ]
  },
  {
   "cell_type": "code",
   "execution_count": 63,
   "id": "1073e203",
   "metadata": {},
   "outputs": [
    {
     "data": {
      "text/plain": [
       "MultipleLines\n",
       "False    4202\n",
       "True     3065\n",
       "Name: count, dtype: int64"
      ]
     },
     "execution_count": 63,
     "metadata": {},
     "output_type": "execute_result"
    }
   ],
   "source": [
    "df['MultipleLines'].value_counts()"
   ]
  },
  {
   "cell_type": "markdown",
   "id": "9dfa26dc",
   "metadata": {},
   "source": [
    "### Análise da coluna __InternetService__\n",
    "Os dados dessa coluna indicam se o cliente tem no contrato serviços de internet, com 3 possibilidades: 'Fiber opitic', 'DSL' e 'No'. Poderiamos transformá-la também em uma coluna booleana, assumindo todos os valores diferentes de 'No' como __True__. Porém para o problemas da empresa em questão, seria interessante manter os dados como estão para fim de análises e modelos. Por isso decidi apenas verificar possíveis inconsistências e mudar o tipo da coluna para 'category'. O tipo 'category' é um tipo especializado para representar valores discretos e repetidos (como rótulos, classes, categorias)."
   ]
  },
  {
   "cell_type": "code",
   "execution_count": 64,
   "id": "59ed8452",
   "metadata": {},
   "outputs": [
    {
     "data": {
      "text/plain": [
       "'assinatura de um provedor internet'"
      ]
     },
     "execution_count": 64,
     "metadata": {},
     "output_type": "execute_result"
    }
   ],
   "source": [
    "dict_data.get('InternetService')"
   ]
  },
  {
   "cell_type": "code",
   "execution_count": 65,
   "id": "e3a69719",
   "metadata": {},
   "outputs": [
    {
     "data": {
      "text/plain": [
       "InternetService\n",
       "Fiber optic    3198\n",
       "DSL            2488\n",
       "No             1581\n",
       "Name: count, dtype: int64"
      ]
     },
     "execution_count": 65,
     "metadata": {},
     "output_type": "execute_result"
    }
   ],
   "source": [
    "df['InternetService'].value_counts()"
   ]
  },
  {
   "cell_type": "code",
   "execution_count": 66,
   "id": "76d99a4a",
   "metadata": {},
   "outputs": [],
   "source": [
    "df['InternetService'] = df['InternetService'].astype('category')\n"
   ]
  },
  {
   "cell_type": "code",
   "execution_count": 67,
   "id": "c7a22ad2",
   "metadata": {},
   "outputs": [
    {
     "data": {
      "text/plain": [
       "InternetService\n",
       "Fiber optic    3198\n",
       "DSL            2488\n",
       "No             1581\n",
       "Name: count, dtype: int64"
      ]
     },
     "execution_count": 67,
     "metadata": {},
     "output_type": "execute_result"
    }
   ],
   "source": [
    "df['InternetService'].value_counts()"
   ]
  },
  {
   "cell_type": "code",
   "execution_count": 68,
   "id": "3783124c",
   "metadata": {},
   "outputs": [
    {
     "data": {
      "text/plain": [
       "CategoricalDtype(categories=['DSL', 'Fiber optic', 'No'], ordered=False, categories_dtype=object)"
      ]
     },
     "execution_count": 68,
     "metadata": {},
     "output_type": "execute_result"
    }
   ],
   "source": [
    "df['InternetService'].dtype"
   ]
  },
  {
   "cell_type": "markdown",
   "id": "e9f718f2",
   "metadata": {},
   "source": [
    "### Análise da coluna __OnlineSecurity__\n",
    "\n",
    "Os dados dessa coluna indicam se o cliente tem serviço de segurança adicional online, semelhante a coluna 'MultipleLInes' possui três valores possíveis: 'Yes','No' e 'No internet service'. Por isso sera dado o mesmo tratamento.\n"
   ]
  },
  {
   "cell_type": "code",
   "execution_count": 69,
   "id": "189f345a",
   "metadata": {},
   "outputs": [
    {
     "data": {
      "text/plain": [
       "'assinatura adicional de segurança online'"
      ]
     },
     "execution_count": 69,
     "metadata": {},
     "output_type": "execute_result"
    }
   ],
   "source": [
    "dict_data.get('OnlineSecurity')"
   ]
  },
  {
   "cell_type": "code",
   "execution_count": 70,
   "id": "c131cddd",
   "metadata": {},
   "outputs": [
    {
     "data": {
      "text/plain": [
       "OnlineSecurity\n",
       "No                     3608\n",
       "Yes                    2078\n",
       "No internet service    1581\n",
       "Name: count, dtype: int64"
      ]
     },
     "execution_count": 70,
     "metadata": {},
     "output_type": "execute_result"
    }
   ],
   "source": [
    "df['OnlineSecurity'].value_counts()"
   ]
  },
  {
   "cell_type": "code",
   "execution_count": 81,
   "id": "2c9c63e6",
   "metadata": {},
   "outputs": [],
   "source": [
    "df['OnlineSecurity'] = df['OnlineSecurity'].str.strip().str.lower().map({\n",
    "    'yes': True,\n",
    "    'no': False,\n",
    "    'no internet service': False \n",
    "})"
   ]
  },
  {
   "cell_type": "code",
   "execution_count": 82,
   "id": "b4765be4",
   "metadata": {},
   "outputs": [
    {
     "data": {
      "text/plain": [
       "OnlineSecurity\n",
       "False    5189\n",
       "True     2078\n",
       "Name: count, dtype: int64"
      ]
     },
     "execution_count": 82,
     "metadata": {},
     "output_type": "execute_result"
    }
   ],
   "source": [
    "df['OnlineSecurity'].value_counts()"
   ]
  },
  {
   "cell_type": "markdown",
   "id": "c9dfad15",
   "metadata": {},
   "source": [
    "### Análise da coluna __OnlineBackup__\n",
    "\n",
    "Os dados dessa coluna indicam se o cliente tem um serviço adicional de backup online. Trata-se também de uma coluna booleana, porém, assim como a coluna anterior, tem os mesmo três valores 'Yes','No' e 'No internet service'."
   ]
  },
  {
   "cell_type": "code",
   "execution_count": 85,
   "id": "5dd57982",
   "metadata": {},
   "outputs": [
    {
     "data": {
      "text/plain": [
       "'assinatura adicional de backup online '"
      ]
     },
     "execution_count": 85,
     "metadata": {},
     "output_type": "execute_result"
    }
   ],
   "source": [
    "dict_data.get('OnlineBackup')"
   ]
  },
  {
   "cell_type": "code",
   "execution_count": 86,
   "id": "c0f78028",
   "metadata": {},
   "outputs": [
    {
     "data": {
      "text/plain": [
       "OnlineBackup\n",
       "No                     3182\n",
       "Yes                    2504\n",
       "No internet service    1581\n",
       "Name: count, dtype: int64"
      ]
     },
     "execution_count": 86,
     "metadata": {},
     "output_type": "execute_result"
    }
   ],
   "source": [
    "df['OnlineBackup'].value_counts()"
   ]
  },
  {
   "cell_type": "code",
   "execution_count": 88,
   "id": "41763d4a",
   "metadata": {},
   "outputs": [],
   "source": [
    "df['OnlineBackup'] = df['OnlineBackup'].str.strip().str.lower().map({\n",
    "    'yes': True,\n",
    "    'no': False,\n",
    "    'no internet service': False \n",
    "})"
   ]
  },
  {
   "cell_type": "code",
   "execution_count": 89,
   "id": "77738f94",
   "metadata": {},
   "outputs": [
    {
     "data": {
      "text/plain": [
       "OnlineBackup\n",
       "False    4763\n",
       "True     2504\n",
       "Name: count, dtype: int64"
      ]
     },
     "execution_count": 89,
     "metadata": {},
     "output_type": "execute_result"
    }
   ],
   "source": [
    "df['OnlineBackup'].value_counts()"
   ]
  },
  {
   "cell_type": "markdown",
   "id": "3ffecc29",
   "metadata": {},
   "source": [
    "DeviceProtection"
   ]
  },
  {
   "cell_type": "code",
   "execution_count": 90,
   "id": "df4df6f2",
   "metadata": {},
   "outputs": [
    {
     "data": {
      "text/plain": [
       "'assinatura adicional de proteção no dispositivo'"
      ]
     },
     "execution_count": 90,
     "metadata": {},
     "output_type": "execute_result"
    }
   ],
   "source": [
    "dict_data.get('DeviceProtection')"
   ]
  },
  {
   "cell_type": "code",
   "execution_count": 92,
   "id": "98768528",
   "metadata": {},
   "outputs": [
    {
     "data": {
      "text/plain": [
       "DeviceProtection\n",
       "No                     3195\n",
       "Yes                    2491\n",
       "No internet service    1581\n",
       "Name: count, dtype: int64"
      ]
     },
     "execution_count": 92,
     "metadata": {},
     "output_type": "execute_result"
    }
   ],
   "source": [
    "df['DeviceProtection'].value_counts()"
   ]
  },
  {
   "cell_type": "code",
   "execution_count": 94,
   "id": "82a47aad",
   "metadata": {},
   "outputs": [],
   "source": [
    "df['DeviceProtection'] = df['DeviceProtection'].str.strip().str.lower().map({\n",
    "    'yes': True,\n",
    "    'no': False,\n",
    "    'no internet service': False \n",
    "})"
   ]
  },
  {
   "cell_type": "code",
   "execution_count": 95,
   "id": "09fa8e40",
   "metadata": {},
   "outputs": [
    {
     "data": {
      "text/plain": [
       "DeviceProtection\n",
       "False    4776\n",
       "True     2491\n",
       "Name: count, dtype: int64"
      ]
     },
     "execution_count": 95,
     "metadata": {},
     "output_type": "execute_result"
    }
   ],
   "source": [
    "df['DeviceProtection'].value_counts()"
   ]
  },
  {
   "cell_type": "markdown",
   "id": "df499559",
   "metadata": {},
   "source": [
    "TechSupport"
   ]
  },
  {
   "cell_type": "code",
   "execution_count": 96,
   "id": "fc3c3a9b",
   "metadata": {},
   "outputs": [
    {
     "data": {
      "text/plain": [
       "'assinatura adicional de suporte técnico, menos tempo de espera'"
      ]
     },
     "execution_count": 96,
     "metadata": {},
     "output_type": "execute_result"
    }
   ],
   "source": [
    "dict_data.get('TechSupport')"
   ]
  },
  {
   "cell_type": "code",
   "execution_count": 97,
   "id": "3068805f",
   "metadata": {},
   "outputs": [
    {
     "data": {
      "text/plain": [
       "TechSupport\n",
       "No                     3582\n",
       "Yes                    2104\n",
       "No internet service    1581\n",
       "Name: count, dtype: int64"
      ]
     },
     "execution_count": 97,
     "metadata": {},
     "output_type": "execute_result"
    }
   ],
   "source": [
    "df['TechSupport'].value_counts()"
   ]
  },
  {
   "cell_type": "code",
   "execution_count": 99,
   "id": "f30410fe",
   "metadata": {},
   "outputs": [],
   "source": [
    "df['TechSupport'] = df['TechSupport'].str.strip().str.lower().map({\n",
    "    'yes': True,\n",
    "    'no': False,\n",
    "    'no internet service': False \n",
    "})"
   ]
  },
  {
   "cell_type": "code",
   "execution_count": 100,
   "id": "3bf60723",
   "metadata": {},
   "outputs": [
    {
     "data": {
      "text/plain": [
       "TechSupport\n",
       "False    5163\n",
       "True     2104\n",
       "Name: count, dtype: int64"
      ]
     },
     "execution_count": 100,
     "metadata": {},
     "output_type": "execute_result"
    }
   ],
   "source": [
    "df['TechSupport'].value_counts()"
   ]
  },
  {
   "cell_type": "markdown",
   "id": "fc7f3c45",
   "metadata": {},
   "source": [
    "StreamingTV"
   ]
  },
  {
   "cell_type": "code",
   "execution_count": 101,
   "id": "c8dcc2ce",
   "metadata": {},
   "outputs": [
    {
     "data": {
      "text/plain": [
       "'assinatura de TV a cabo '"
      ]
     },
     "execution_count": 101,
     "metadata": {},
     "output_type": "execute_result"
    }
   ],
   "source": [
    "dict_data.get('StreamingTV')"
   ]
  },
  {
   "cell_type": "code",
   "execution_count": 102,
   "id": "7a54f638",
   "metadata": {},
   "outputs": [
    {
     "data": {
      "text/plain": [
       "StreamingTV\n",
       "No                     2896\n",
       "Yes                    2790\n",
       "No internet service    1581\n",
       "Name: count, dtype: int64"
      ]
     },
     "execution_count": 102,
     "metadata": {},
     "output_type": "execute_result"
    }
   ],
   "source": [
    "df['StreamingTV'].value_counts()"
   ]
  },
  {
   "cell_type": "code",
   "execution_count": 104,
   "id": "2b5d5567",
   "metadata": {},
   "outputs": [],
   "source": [
    "df['StreamingTV'] = df['StreamingTV'].str.strip().str.lower().map({'yes': True, 'no': False, 'no internet service': False})"
   ]
  },
  {
   "cell_type": "code",
   "execution_count": 105,
   "id": "c773c9f3",
   "metadata": {},
   "outputs": [
    {
     "data": {
      "text/plain": [
       "StreamingTV\n",
       "False    4477\n",
       "True     2790\n",
       "Name: count, dtype: int64"
      ]
     },
     "execution_count": 105,
     "metadata": {},
     "output_type": "execute_result"
    }
   ],
   "source": [
    "df['StreamingTV'].value_counts()"
   ]
  },
  {
   "cell_type": "code",
   "execution_count": 106,
   "id": "62a82879",
   "metadata": {},
   "outputs": [
    {
     "data": {
      "text/plain": [
       "dtype('bool')"
      ]
     },
     "execution_count": 106,
     "metadata": {},
     "output_type": "execute_result"
    }
   ],
   "source": [
    "df['StreamingTV'].dtype"
   ]
  },
  {
   "cell_type": "markdown",
   "id": "41734e1b",
   "metadata": {},
   "source": [
    "StreamingMovies"
   ]
  },
  {
   "cell_type": "code",
   "execution_count": 107,
   "id": "2b606245",
   "metadata": {},
   "outputs": [
    {
     "data": {
      "text/plain": [
       "'assinatura de streaming de filmes '"
      ]
     },
     "execution_count": 107,
     "metadata": {},
     "output_type": "execute_result"
    }
   ],
   "source": [
    "dict_data.get('StreamingMovies')"
   ]
  },
  {
   "cell_type": "code",
   "execution_count": 108,
   "id": "113926b3",
   "metadata": {},
   "outputs": [
    {
     "data": {
      "text/plain": [
       "StreamingMovies\n",
       "No                     2870\n",
       "Yes                    2816\n",
       "No internet service    1581\n",
       "Name: count, dtype: int64"
      ]
     },
     "execution_count": 108,
     "metadata": {},
     "output_type": "execute_result"
    }
   ],
   "source": [
    "df['StreamingMovies'].value_counts()"
   ]
  },
  {
   "cell_type": "code",
   "execution_count": 110,
   "id": "b3a398de",
   "metadata": {},
   "outputs": [],
   "source": [
    "df['StreamingMovies'] = df['StreamingMovies'].str.strip().str.lower().map({'yes': True, 'no': False, 'no internet service': False})"
   ]
  },
  {
   "cell_type": "code",
   "execution_count": 111,
   "id": "9b63476a",
   "metadata": {},
   "outputs": [
    {
     "data": {
      "text/plain": [
       "StreamingMovies\n",
       "False    4451\n",
       "True     2816\n",
       "Name: count, dtype: int64"
      ]
     },
     "execution_count": 111,
     "metadata": {},
     "output_type": "execute_result"
    }
   ],
   "source": [
    "df['StreamingMovies'].value_counts()"
   ]
  },
  {
   "cell_type": "code",
   "execution_count": 113,
   "id": "4f6efb03",
   "metadata": {},
   "outputs": [
    {
     "data": {
      "text/plain": [
       "dtype('bool')"
      ]
     },
     "execution_count": 113,
     "metadata": {},
     "output_type": "execute_result"
    }
   ],
   "source": [
    "df['StreamingMovies'].dtype"
   ]
  },
  {
   "cell_type": "markdown",
   "id": "15a1828d",
   "metadata": {},
   "source": [
    "Contract"
   ]
  },
  {
   "cell_type": "code",
   "execution_count": 114,
   "id": "a3e626be",
   "metadata": {},
   "outputs": [
    {
     "data": {
      "text/plain": [
       "'tipo de contrato'"
      ]
     },
     "execution_count": 114,
     "metadata": {},
     "output_type": "execute_result"
    }
   ],
   "source": [
    "dict_data.get('Contract')"
   ]
  },
  {
   "cell_type": "code",
   "execution_count": null,
   "id": "dce9467e",
   "metadata": {},
   "outputs": [
    {
     "data": {
      "text/plain": [
       "Contract\n",
       "Month-to-month    4005\n",
       "Two year          1743\n",
       "One year          1519\n",
       "Name: count, dtype: int64"
      ]
     },
     "execution_count": 116,
     "metadata": {},
     "output_type": "execute_result"
    }
   ],
   "source": [
    "df['Contract'].value_counts() # transformar para categorica"
   ]
  },
  {
   "cell_type": "code",
   "execution_count": null,
   "id": "e3ab6768",
   "metadata": {},
   "outputs": [],
   "source": []
  },
  {
   "cell_type": "code",
   "execution_count": null,
   "id": "58b71f97",
   "metadata": {},
   "outputs": [],
   "source": []
  },
  {
   "cell_type": "code",
   "execution_count": 71,
   "id": "c99c6f40",
   "metadata": {},
   "outputs": [
    {
     "data": {
      "text/plain": [
       "Index(['customerID', 'Churn', 'gender', 'SeniorCitizen', 'Partner',\n",
       "       'Dependents', 'tenure', 'PhoneService', 'MultipleLines',\n",
       "       'InternetService', 'OnlineSecurity', 'OnlineBackup', 'DeviceProtection',\n",
       "       'TechSupport', 'StreamingTV', 'StreamingMovies', 'Contract',\n",
       "       'PaperlessBilling', 'PaymentMethod', 'Charges.Monthly',\n",
       "       'Charges.Total'],\n",
       "      dtype='object')"
      ]
     },
     "execution_count": 71,
     "metadata": {},
     "output_type": "execute_result"
    }
   ],
   "source": [
    "df.columns"
   ]
  },
  {
   "cell_type": "code",
   "execution_count": null,
   "id": "43d25be4",
   "metadata": {},
   "outputs": [],
   "source": []
  },
  {
   "cell_type": "code",
   "execution_count": null,
   "id": "fd185d1f",
   "metadata": {},
   "outputs": [],
   "source": []
  },
  {
   "cell_type": "markdown",
   "id": "601fce7b",
   "metadata": {},
   "source": [
    "### Análise da coluna __Charges.Total__\n",
    "Segundo o dicionário de dados, essa colunas informa o total já pago pelo cliente.\n"
   ]
  },
  {
   "cell_type": "code",
   "execution_count": 72,
   "id": "640cc296",
   "metadata": {},
   "outputs": [
    {
     "data": {
      "text/plain": [
       "'total gasto pelo cliente'"
      ]
     },
     "execution_count": 72,
     "metadata": {},
     "output_type": "execute_result"
    }
   ],
   "source": [
    "dict_data.get('Charges.Total')"
   ]
  },
  {
   "cell_type": "code",
   "execution_count": 73,
   "id": "0b0744f3",
   "metadata": {},
   "outputs": [
    {
     "data": {
      "text/plain": [
       "customerID            object\n",
       "Churn                boolean\n",
       "gender                object\n",
       "SeniorCitizen           bool\n",
       "Partner              boolean\n",
       "Dependents           boolean\n",
       "tenure                 int64\n",
       "PhoneService         boolean\n",
       "MultipleLines           bool\n",
       "InternetService     category\n",
       "OnlineSecurity        object\n",
       "OnlineBackup          object\n",
       "DeviceProtection      object\n",
       "TechSupport           object\n",
       "StreamingTV           object\n",
       "StreamingMovies       object\n",
       "Contract              object\n",
       "PaperlessBilling     boolean\n",
       "PaymentMethod         object\n",
       "Charges.Monthly      float64\n",
       "Charges.Total         object\n",
       "dtype: object"
      ]
     },
     "execution_count": 73,
     "metadata": {},
     "output_type": "execute_result"
    }
   ],
   "source": [
    "df.dtypes # A coluna está como tipo Object"
   ]
  },
  {
   "cell_type": "code",
   "execution_count": 74,
   "id": "cac08b1e",
   "metadata": {},
   "outputs": [
    {
     "data": {
      "text/html": [
       "<div>\n",
       "<style scoped>\n",
       "    .dataframe tbody tr th:only-of-type {\n",
       "        vertical-align: middle;\n",
       "    }\n",
       "\n",
       "    .dataframe tbody tr th {\n",
       "        vertical-align: top;\n",
       "    }\n",
       "\n",
       "    .dataframe thead th {\n",
       "        text-align: right;\n",
       "    }\n",
       "</style>\n",
       "<table border=\"1\" class=\"dataframe\">\n",
       "  <thead>\n",
       "    <tr style=\"text-align: right;\">\n",
       "      <th></th>\n",
       "      <th>customerID</th>\n",
       "      <th>Churn</th>\n",
       "      <th>gender</th>\n",
       "      <th>SeniorCitizen</th>\n",
       "      <th>Partner</th>\n",
       "      <th>Dependents</th>\n",
       "      <th>tenure</th>\n",
       "      <th>PhoneService</th>\n",
       "      <th>MultipleLines</th>\n",
       "      <th>InternetService</th>\n",
       "      <th>...</th>\n",
       "      <th>OnlineBackup</th>\n",
       "      <th>DeviceProtection</th>\n",
       "      <th>TechSupport</th>\n",
       "      <th>StreamingTV</th>\n",
       "      <th>StreamingMovies</th>\n",
       "      <th>Contract</th>\n",
       "      <th>PaperlessBilling</th>\n",
       "      <th>PaymentMethod</th>\n",
       "      <th>Charges.Monthly</th>\n",
       "      <th>Charges.Total</th>\n",
       "    </tr>\n",
       "  </thead>\n",
       "  <tbody>\n",
       "    <tr>\n",
       "      <th>975</th>\n",
       "      <td>1371-DWPAZ</td>\n",
       "      <td>False</td>\n",
       "      <td>female</td>\n",
       "      <td>False</td>\n",
       "      <td>True</td>\n",
       "      <td>True</td>\n",
       "      <td>0</td>\n",
       "      <td>False</td>\n",
       "      <td>False</td>\n",
       "      <td>DSL</td>\n",
       "      <td>...</td>\n",
       "      <td>Yes</td>\n",
       "      <td>Yes</td>\n",
       "      <td>Yes</td>\n",
       "      <td>Yes</td>\n",
       "      <td>No</td>\n",
       "      <td>Two year</td>\n",
       "      <td>False</td>\n",
       "      <td>Credit card (automatic)</td>\n",
       "      <td>56.05</td>\n",
       "      <td></td>\n",
       "    </tr>\n",
       "    <tr>\n",
       "      <th>1775</th>\n",
       "      <td>2520-SGTTA</td>\n",
       "      <td>False</td>\n",
       "      <td>female</td>\n",
       "      <td>False</td>\n",
       "      <td>True</td>\n",
       "      <td>True</td>\n",
       "      <td>0</td>\n",
       "      <td>True</td>\n",
       "      <td>False</td>\n",
       "      <td>No</td>\n",
       "      <td>...</td>\n",
       "      <td>No internet service</td>\n",
       "      <td>No internet service</td>\n",
       "      <td>No internet service</td>\n",
       "      <td>No internet service</td>\n",
       "      <td>No internet service</td>\n",
       "      <td>Two year</td>\n",
       "      <td>False</td>\n",
       "      <td>Mailed check</td>\n",
       "      <td>20.00</td>\n",
       "      <td></td>\n",
       "    </tr>\n",
       "    <tr>\n",
       "      <th>1955</th>\n",
       "      <td>2775-SEFEE</td>\n",
       "      <td>False</td>\n",
       "      <td>male</td>\n",
       "      <td>False</td>\n",
       "      <td>False</td>\n",
       "      <td>True</td>\n",
       "      <td>0</td>\n",
       "      <td>True</td>\n",
       "      <td>True</td>\n",
       "      <td>DSL</td>\n",
       "      <td>...</td>\n",
       "      <td>Yes</td>\n",
       "      <td>No</td>\n",
       "      <td>Yes</td>\n",
       "      <td>No</td>\n",
       "      <td>No</td>\n",
       "      <td>Two year</td>\n",
       "      <td>True</td>\n",
       "      <td>Bank transfer (automatic)</td>\n",
       "      <td>61.90</td>\n",
       "      <td></td>\n",
       "    </tr>\n",
       "    <tr>\n",
       "      <th>2075</th>\n",
       "      <td>2923-ARZLG</td>\n",
       "      <td>False</td>\n",
       "      <td>male</td>\n",
       "      <td>False</td>\n",
       "      <td>True</td>\n",
       "      <td>True</td>\n",
       "      <td>0</td>\n",
       "      <td>True</td>\n",
       "      <td>False</td>\n",
       "      <td>No</td>\n",
       "      <td>...</td>\n",
       "      <td>No internet service</td>\n",
       "      <td>No internet service</td>\n",
       "      <td>No internet service</td>\n",
       "      <td>No internet service</td>\n",
       "      <td>No internet service</td>\n",
       "      <td>One year</td>\n",
       "      <td>True</td>\n",
       "      <td>Mailed check</td>\n",
       "      <td>19.70</td>\n",
       "      <td></td>\n",
       "    </tr>\n",
       "    <tr>\n",
       "      <th>2232</th>\n",
       "      <td>3115-CZMZD</td>\n",
       "      <td>False</td>\n",
       "      <td>male</td>\n",
       "      <td>False</td>\n",
       "      <td>False</td>\n",
       "      <td>True</td>\n",
       "      <td>0</td>\n",
       "      <td>True</td>\n",
       "      <td>False</td>\n",
       "      <td>No</td>\n",
       "      <td>...</td>\n",
       "      <td>No internet service</td>\n",
       "      <td>No internet service</td>\n",
       "      <td>No internet service</td>\n",
       "      <td>No internet service</td>\n",
       "      <td>No internet service</td>\n",
       "      <td>Two year</td>\n",
       "      <td>False</td>\n",
       "      <td>Mailed check</td>\n",
       "      <td>20.25</td>\n",
       "      <td></td>\n",
       "    </tr>\n",
       "    <tr>\n",
       "      <th>2308</th>\n",
       "      <td>3213-VVOLG</td>\n",
       "      <td>False</td>\n",
       "      <td>male</td>\n",
       "      <td>False</td>\n",
       "      <td>True</td>\n",
       "      <td>True</td>\n",
       "      <td>0</td>\n",
       "      <td>True</td>\n",
       "      <td>True</td>\n",
       "      <td>No</td>\n",
       "      <td>...</td>\n",
       "      <td>No internet service</td>\n",
       "      <td>No internet service</td>\n",
       "      <td>No internet service</td>\n",
       "      <td>No internet service</td>\n",
       "      <td>No internet service</td>\n",
       "      <td>Two year</td>\n",
       "      <td>False</td>\n",
       "      <td>Mailed check</td>\n",
       "      <td>25.35</td>\n",
       "      <td></td>\n",
       "    </tr>\n",
       "    <tr>\n",
       "      <th>2930</th>\n",
       "      <td>4075-WKNIU</td>\n",
       "      <td>False</td>\n",
       "      <td>female</td>\n",
       "      <td>False</td>\n",
       "      <td>True</td>\n",
       "      <td>True</td>\n",
       "      <td>0</td>\n",
       "      <td>True</td>\n",
       "      <td>True</td>\n",
       "      <td>DSL</td>\n",
       "      <td>...</td>\n",
       "      <td>Yes</td>\n",
       "      <td>Yes</td>\n",
       "      <td>Yes</td>\n",
       "      <td>Yes</td>\n",
       "      <td>No</td>\n",
       "      <td>Two year</td>\n",
       "      <td>False</td>\n",
       "      <td>Mailed check</td>\n",
       "      <td>73.35</td>\n",
       "      <td></td>\n",
       "    </tr>\n",
       "    <tr>\n",
       "      <th>3134</th>\n",
       "      <td>4367-NUYAO</td>\n",
       "      <td>False</td>\n",
       "      <td>male</td>\n",
       "      <td>False</td>\n",
       "      <td>True</td>\n",
       "      <td>True</td>\n",
       "      <td>0</td>\n",
       "      <td>True</td>\n",
       "      <td>True</td>\n",
       "      <td>No</td>\n",
       "      <td>...</td>\n",
       "      <td>No internet service</td>\n",
       "      <td>No internet service</td>\n",
       "      <td>No internet service</td>\n",
       "      <td>No internet service</td>\n",
       "      <td>No internet service</td>\n",
       "      <td>Two year</td>\n",
       "      <td>False</td>\n",
       "      <td>Mailed check</td>\n",
       "      <td>25.75</td>\n",
       "      <td></td>\n",
       "    </tr>\n",
       "    <tr>\n",
       "      <th>3203</th>\n",
       "      <td>4472-LVYGI</td>\n",
       "      <td>False</td>\n",
       "      <td>female</td>\n",
       "      <td>False</td>\n",
       "      <td>True</td>\n",
       "      <td>True</td>\n",
       "      <td>0</td>\n",
       "      <td>False</td>\n",
       "      <td>False</td>\n",
       "      <td>DSL</td>\n",
       "      <td>...</td>\n",
       "      <td>No</td>\n",
       "      <td>Yes</td>\n",
       "      <td>Yes</td>\n",
       "      <td>Yes</td>\n",
       "      <td>No</td>\n",
       "      <td>Two year</td>\n",
       "      <td>True</td>\n",
       "      <td>Bank transfer (automatic)</td>\n",
       "      <td>52.55</td>\n",
       "      <td></td>\n",
       "    </tr>\n",
       "    <tr>\n",
       "      <th>4169</th>\n",
       "      <td>5709-LVOEQ</td>\n",
       "      <td>False</td>\n",
       "      <td>female</td>\n",
       "      <td>False</td>\n",
       "      <td>True</td>\n",
       "      <td>True</td>\n",
       "      <td>0</td>\n",
       "      <td>True</td>\n",
       "      <td>False</td>\n",
       "      <td>DSL</td>\n",
       "      <td>...</td>\n",
       "      <td>Yes</td>\n",
       "      <td>Yes</td>\n",
       "      <td>No</td>\n",
       "      <td>Yes</td>\n",
       "      <td>Yes</td>\n",
       "      <td>Two year</td>\n",
       "      <td>False</td>\n",
       "      <td>Mailed check</td>\n",
       "      <td>80.85</td>\n",
       "      <td></td>\n",
       "    </tr>\n",
       "    <tr>\n",
       "      <th>5599</th>\n",
       "      <td>7644-OMVMY</td>\n",
       "      <td>False</td>\n",
       "      <td>male</td>\n",
       "      <td>False</td>\n",
       "      <td>True</td>\n",
       "      <td>True</td>\n",
       "      <td>0</td>\n",
       "      <td>True</td>\n",
       "      <td>False</td>\n",
       "      <td>No</td>\n",
       "      <td>...</td>\n",
       "      <td>No internet service</td>\n",
       "      <td>No internet service</td>\n",
       "      <td>No internet service</td>\n",
       "      <td>No internet service</td>\n",
       "      <td>No internet service</td>\n",
       "      <td>Two year</td>\n",
       "      <td>False</td>\n",
       "      <td>Mailed check</td>\n",
       "      <td>19.85</td>\n",
       "      <td></td>\n",
       "    </tr>\n",
       "  </tbody>\n",
       "</table>\n",
       "<p>11 rows × 21 columns</p>\n",
       "</div>"
      ],
      "text/plain": [
       "      customerID  Churn  gender  SeniorCitizen  Partner  Dependents  tenure  \\\n",
       "975   1371-DWPAZ  False  female          False     True        True       0   \n",
       "1775  2520-SGTTA  False  female          False     True        True       0   \n",
       "1955  2775-SEFEE  False    male          False    False        True       0   \n",
       "2075  2923-ARZLG  False    male          False     True        True       0   \n",
       "2232  3115-CZMZD  False    male          False    False        True       0   \n",
       "2308  3213-VVOLG  False    male          False     True        True       0   \n",
       "2930  4075-WKNIU  False  female          False     True        True       0   \n",
       "3134  4367-NUYAO  False    male          False     True        True       0   \n",
       "3203  4472-LVYGI  False  female          False     True        True       0   \n",
       "4169  5709-LVOEQ  False  female          False     True        True       0   \n",
       "5599  7644-OMVMY  False    male          False     True        True       0   \n",
       "\n",
       "      PhoneService  MultipleLines InternetService  ...         OnlineBackup  \\\n",
       "975          False          False             DSL  ...                  Yes   \n",
       "1775          True          False              No  ...  No internet service   \n",
       "1955          True           True             DSL  ...                  Yes   \n",
       "2075          True          False              No  ...  No internet service   \n",
       "2232          True          False              No  ...  No internet service   \n",
       "2308          True           True              No  ...  No internet service   \n",
       "2930          True           True             DSL  ...                  Yes   \n",
       "3134          True           True              No  ...  No internet service   \n",
       "3203         False          False             DSL  ...                   No   \n",
       "4169          True          False             DSL  ...                  Yes   \n",
       "5599          True          False              No  ...  No internet service   \n",
       "\n",
       "         DeviceProtection          TechSupport          StreamingTV  \\\n",
       "975                   Yes                  Yes                  Yes   \n",
       "1775  No internet service  No internet service  No internet service   \n",
       "1955                   No                  Yes                   No   \n",
       "2075  No internet service  No internet service  No internet service   \n",
       "2232  No internet service  No internet service  No internet service   \n",
       "2308  No internet service  No internet service  No internet service   \n",
       "2930                  Yes                  Yes                  Yes   \n",
       "3134  No internet service  No internet service  No internet service   \n",
       "3203                  Yes                  Yes                  Yes   \n",
       "4169                  Yes                   No                  Yes   \n",
       "5599  No internet service  No internet service  No internet service   \n",
       "\n",
       "          StreamingMovies  Contract PaperlessBilling  \\\n",
       "975                    No  Two year            False   \n",
       "1775  No internet service  Two year            False   \n",
       "1955                   No  Two year             True   \n",
       "2075  No internet service  One year             True   \n",
       "2232  No internet service  Two year            False   \n",
       "2308  No internet service  Two year            False   \n",
       "2930                   No  Two year            False   \n",
       "3134  No internet service  Two year            False   \n",
       "3203                   No  Two year             True   \n",
       "4169                  Yes  Two year            False   \n",
       "5599  No internet service  Two year            False   \n",
       "\n",
       "                  PaymentMethod Charges.Monthly  Charges.Total  \n",
       "975     Credit card (automatic)           56.05                 \n",
       "1775               Mailed check           20.00                 \n",
       "1955  Bank transfer (automatic)           61.90                 \n",
       "2075               Mailed check           19.70                 \n",
       "2232               Mailed check           20.25                 \n",
       "2308               Mailed check           25.35                 \n",
       "2930               Mailed check           73.35                 \n",
       "3134               Mailed check           25.75                 \n",
       "3203  Bank transfer (automatic)           52.55                 \n",
       "4169               Mailed check           80.85                 \n",
       "5599               Mailed check           19.85                 \n",
       "\n",
       "[11 rows x 21 columns]"
      ]
     },
     "execution_count": 74,
     "metadata": {},
     "output_type": "execute_result"
    }
   ],
   "source": [
    "# Esse comando exibe as colunas que não podem ter seus valores convertidos para valores numéricos\n",
    "df[df['Charges.Total'].apply(pd.to_numeric, errors='coerce').isna()]"
   ]
  },
  {
   "cell_type": "markdown",
   "id": "bf2d58a5",
   "metadata": {},
   "source": [
    "Existe 11 linhas da coluna **Charges.Total** são strings vazias, possívelmente cliente que acabaram de se juntar a base de clientes, pois os mesmo tem 0 como valor padrão a todos na coluna ternure que é o tempo em que o mesmo já é cliente.\n",
    "Sendo novos clientes, que ainda terão seus pagamentos faturados, o melhor tratamento é atribuir o valor 0 as essas linhas com string vazias, possibilitando a conversão do tipo da coluna e futuras análises."
   ]
  },
  {
   "cell_type": "code",
   "execution_count": 75,
   "id": "e785cbd9",
   "metadata": {},
   "outputs": [
    {
     "data": {
      "text/plain": [
       "[975, 1775, 1955, 2075, 2232, 2308, 2930, 3134, 3203, 4169, 5599]"
      ]
     },
     "execution_count": 75,
     "metadata": {},
     "output_type": "execute_result"
    }
   ],
   "source": [
    "# Atribuindo o valor zero a todas as strings vazias\n",
    "\n",
    "# Criei uma lista com todos os indices que tem uma string vazia no df\n",
    "empty_string = df[df['Charges.Total'].apply(pd.to_numeric, errors='coerce').isna()].index.tolist()\n",
    "\n",
    "empty_string"
   ]
  },
  {
   "cell_type": "code",
   "execution_count": 76,
   "id": "36ea8dac",
   "metadata": {},
   "outputs": [],
   "source": [
    "\n",
    "# Usando o .loc com a lista como mascara para localizar e substituir as strings vazias por zero\n",
    "df.loc[empty_string, 'Charges.Total'] = 0"
   ]
  },
  {
   "cell_type": "code",
   "execution_count": 77,
   "id": "9203a8e0",
   "metadata": {},
   "outputs": [
    {
     "data": {
      "text/html": [
       "<div>\n",
       "<style scoped>\n",
       "    .dataframe tbody tr th:only-of-type {\n",
       "        vertical-align: middle;\n",
       "    }\n",
       "\n",
       "    .dataframe tbody tr th {\n",
       "        vertical-align: top;\n",
       "    }\n",
       "\n",
       "    .dataframe thead th {\n",
       "        text-align: right;\n",
       "    }\n",
       "</style>\n",
       "<table border=\"1\" class=\"dataframe\">\n",
       "  <thead>\n",
       "    <tr style=\"text-align: right;\">\n",
       "      <th></th>\n",
       "      <th>customerID</th>\n",
       "      <th>Churn</th>\n",
       "      <th>gender</th>\n",
       "      <th>SeniorCitizen</th>\n",
       "      <th>Partner</th>\n",
       "      <th>Dependents</th>\n",
       "      <th>tenure</th>\n",
       "      <th>PhoneService</th>\n",
       "      <th>MultipleLines</th>\n",
       "      <th>InternetService</th>\n",
       "      <th>...</th>\n",
       "      <th>OnlineBackup</th>\n",
       "      <th>DeviceProtection</th>\n",
       "      <th>TechSupport</th>\n",
       "      <th>StreamingTV</th>\n",
       "      <th>StreamingMovies</th>\n",
       "      <th>Contract</th>\n",
       "      <th>PaperlessBilling</th>\n",
       "      <th>PaymentMethod</th>\n",
       "      <th>Charges.Monthly</th>\n",
       "      <th>Charges.Total</th>\n",
       "    </tr>\n",
       "  </thead>\n",
       "  <tbody>\n",
       "    <tr>\n",
       "      <th>975</th>\n",
       "      <td>1371-DWPAZ</td>\n",
       "      <td>False</td>\n",
       "      <td>female</td>\n",
       "      <td>False</td>\n",
       "      <td>True</td>\n",
       "      <td>True</td>\n",
       "      <td>0</td>\n",
       "      <td>False</td>\n",
       "      <td>False</td>\n",
       "      <td>DSL</td>\n",
       "      <td>...</td>\n",
       "      <td>Yes</td>\n",
       "      <td>Yes</td>\n",
       "      <td>Yes</td>\n",
       "      <td>Yes</td>\n",
       "      <td>No</td>\n",
       "      <td>Two year</td>\n",
       "      <td>False</td>\n",
       "      <td>Credit card (automatic)</td>\n",
       "      <td>56.05</td>\n",
       "      <td>0</td>\n",
       "    </tr>\n",
       "    <tr>\n",
       "      <th>1775</th>\n",
       "      <td>2520-SGTTA</td>\n",
       "      <td>False</td>\n",
       "      <td>female</td>\n",
       "      <td>False</td>\n",
       "      <td>True</td>\n",
       "      <td>True</td>\n",
       "      <td>0</td>\n",
       "      <td>True</td>\n",
       "      <td>False</td>\n",
       "      <td>No</td>\n",
       "      <td>...</td>\n",
       "      <td>No internet service</td>\n",
       "      <td>No internet service</td>\n",
       "      <td>No internet service</td>\n",
       "      <td>No internet service</td>\n",
       "      <td>No internet service</td>\n",
       "      <td>Two year</td>\n",
       "      <td>False</td>\n",
       "      <td>Mailed check</td>\n",
       "      <td>20.00</td>\n",
       "      <td>0</td>\n",
       "    </tr>\n",
       "    <tr>\n",
       "      <th>1955</th>\n",
       "      <td>2775-SEFEE</td>\n",
       "      <td>False</td>\n",
       "      <td>male</td>\n",
       "      <td>False</td>\n",
       "      <td>False</td>\n",
       "      <td>True</td>\n",
       "      <td>0</td>\n",
       "      <td>True</td>\n",
       "      <td>True</td>\n",
       "      <td>DSL</td>\n",
       "      <td>...</td>\n",
       "      <td>Yes</td>\n",
       "      <td>No</td>\n",
       "      <td>Yes</td>\n",
       "      <td>No</td>\n",
       "      <td>No</td>\n",
       "      <td>Two year</td>\n",
       "      <td>True</td>\n",
       "      <td>Bank transfer (automatic)</td>\n",
       "      <td>61.90</td>\n",
       "      <td>0</td>\n",
       "    </tr>\n",
       "    <tr>\n",
       "      <th>2075</th>\n",
       "      <td>2923-ARZLG</td>\n",
       "      <td>False</td>\n",
       "      <td>male</td>\n",
       "      <td>False</td>\n",
       "      <td>True</td>\n",
       "      <td>True</td>\n",
       "      <td>0</td>\n",
       "      <td>True</td>\n",
       "      <td>False</td>\n",
       "      <td>No</td>\n",
       "      <td>...</td>\n",
       "      <td>No internet service</td>\n",
       "      <td>No internet service</td>\n",
       "      <td>No internet service</td>\n",
       "      <td>No internet service</td>\n",
       "      <td>No internet service</td>\n",
       "      <td>One year</td>\n",
       "      <td>True</td>\n",
       "      <td>Mailed check</td>\n",
       "      <td>19.70</td>\n",
       "      <td>0</td>\n",
       "    </tr>\n",
       "    <tr>\n",
       "      <th>2232</th>\n",
       "      <td>3115-CZMZD</td>\n",
       "      <td>False</td>\n",
       "      <td>male</td>\n",
       "      <td>False</td>\n",
       "      <td>False</td>\n",
       "      <td>True</td>\n",
       "      <td>0</td>\n",
       "      <td>True</td>\n",
       "      <td>False</td>\n",
       "      <td>No</td>\n",
       "      <td>...</td>\n",
       "      <td>No internet service</td>\n",
       "      <td>No internet service</td>\n",
       "      <td>No internet service</td>\n",
       "      <td>No internet service</td>\n",
       "      <td>No internet service</td>\n",
       "      <td>Two year</td>\n",
       "      <td>False</td>\n",
       "      <td>Mailed check</td>\n",
       "      <td>20.25</td>\n",
       "      <td>0</td>\n",
       "    </tr>\n",
       "    <tr>\n",
       "      <th>2308</th>\n",
       "      <td>3213-VVOLG</td>\n",
       "      <td>False</td>\n",
       "      <td>male</td>\n",
       "      <td>False</td>\n",
       "      <td>True</td>\n",
       "      <td>True</td>\n",
       "      <td>0</td>\n",
       "      <td>True</td>\n",
       "      <td>True</td>\n",
       "      <td>No</td>\n",
       "      <td>...</td>\n",
       "      <td>No internet service</td>\n",
       "      <td>No internet service</td>\n",
       "      <td>No internet service</td>\n",
       "      <td>No internet service</td>\n",
       "      <td>No internet service</td>\n",
       "      <td>Two year</td>\n",
       "      <td>False</td>\n",
       "      <td>Mailed check</td>\n",
       "      <td>25.35</td>\n",
       "      <td>0</td>\n",
       "    </tr>\n",
       "    <tr>\n",
       "      <th>2930</th>\n",
       "      <td>4075-WKNIU</td>\n",
       "      <td>False</td>\n",
       "      <td>female</td>\n",
       "      <td>False</td>\n",
       "      <td>True</td>\n",
       "      <td>True</td>\n",
       "      <td>0</td>\n",
       "      <td>True</td>\n",
       "      <td>True</td>\n",
       "      <td>DSL</td>\n",
       "      <td>...</td>\n",
       "      <td>Yes</td>\n",
       "      <td>Yes</td>\n",
       "      <td>Yes</td>\n",
       "      <td>Yes</td>\n",
       "      <td>No</td>\n",
       "      <td>Two year</td>\n",
       "      <td>False</td>\n",
       "      <td>Mailed check</td>\n",
       "      <td>73.35</td>\n",
       "      <td>0</td>\n",
       "    </tr>\n",
       "    <tr>\n",
       "      <th>3134</th>\n",
       "      <td>4367-NUYAO</td>\n",
       "      <td>False</td>\n",
       "      <td>male</td>\n",
       "      <td>False</td>\n",
       "      <td>True</td>\n",
       "      <td>True</td>\n",
       "      <td>0</td>\n",
       "      <td>True</td>\n",
       "      <td>True</td>\n",
       "      <td>No</td>\n",
       "      <td>...</td>\n",
       "      <td>No internet service</td>\n",
       "      <td>No internet service</td>\n",
       "      <td>No internet service</td>\n",
       "      <td>No internet service</td>\n",
       "      <td>No internet service</td>\n",
       "      <td>Two year</td>\n",
       "      <td>False</td>\n",
       "      <td>Mailed check</td>\n",
       "      <td>25.75</td>\n",
       "      <td>0</td>\n",
       "    </tr>\n",
       "    <tr>\n",
       "      <th>3203</th>\n",
       "      <td>4472-LVYGI</td>\n",
       "      <td>False</td>\n",
       "      <td>female</td>\n",
       "      <td>False</td>\n",
       "      <td>True</td>\n",
       "      <td>True</td>\n",
       "      <td>0</td>\n",
       "      <td>False</td>\n",
       "      <td>False</td>\n",
       "      <td>DSL</td>\n",
       "      <td>...</td>\n",
       "      <td>No</td>\n",
       "      <td>Yes</td>\n",
       "      <td>Yes</td>\n",
       "      <td>Yes</td>\n",
       "      <td>No</td>\n",
       "      <td>Two year</td>\n",
       "      <td>True</td>\n",
       "      <td>Bank transfer (automatic)</td>\n",
       "      <td>52.55</td>\n",
       "      <td>0</td>\n",
       "    </tr>\n",
       "    <tr>\n",
       "      <th>4169</th>\n",
       "      <td>5709-LVOEQ</td>\n",
       "      <td>False</td>\n",
       "      <td>female</td>\n",
       "      <td>False</td>\n",
       "      <td>True</td>\n",
       "      <td>True</td>\n",
       "      <td>0</td>\n",
       "      <td>True</td>\n",
       "      <td>False</td>\n",
       "      <td>DSL</td>\n",
       "      <td>...</td>\n",
       "      <td>Yes</td>\n",
       "      <td>Yes</td>\n",
       "      <td>No</td>\n",
       "      <td>Yes</td>\n",
       "      <td>Yes</td>\n",
       "      <td>Two year</td>\n",
       "      <td>False</td>\n",
       "      <td>Mailed check</td>\n",
       "      <td>80.85</td>\n",
       "      <td>0</td>\n",
       "    </tr>\n",
       "    <tr>\n",
       "      <th>5599</th>\n",
       "      <td>7644-OMVMY</td>\n",
       "      <td>False</td>\n",
       "      <td>male</td>\n",
       "      <td>False</td>\n",
       "      <td>True</td>\n",
       "      <td>True</td>\n",
       "      <td>0</td>\n",
       "      <td>True</td>\n",
       "      <td>False</td>\n",
       "      <td>No</td>\n",
       "      <td>...</td>\n",
       "      <td>No internet service</td>\n",
       "      <td>No internet service</td>\n",
       "      <td>No internet service</td>\n",
       "      <td>No internet service</td>\n",
       "      <td>No internet service</td>\n",
       "      <td>Two year</td>\n",
       "      <td>False</td>\n",
       "      <td>Mailed check</td>\n",
       "      <td>19.85</td>\n",
       "      <td>0</td>\n",
       "    </tr>\n",
       "  </tbody>\n",
       "</table>\n",
       "<p>11 rows × 21 columns</p>\n",
       "</div>"
      ],
      "text/plain": [
       "      customerID  Churn  gender  SeniorCitizen  Partner  Dependents  tenure  \\\n",
       "975   1371-DWPAZ  False  female          False     True        True       0   \n",
       "1775  2520-SGTTA  False  female          False     True        True       0   \n",
       "1955  2775-SEFEE  False    male          False    False        True       0   \n",
       "2075  2923-ARZLG  False    male          False     True        True       0   \n",
       "2232  3115-CZMZD  False    male          False    False        True       0   \n",
       "2308  3213-VVOLG  False    male          False     True        True       0   \n",
       "2930  4075-WKNIU  False  female          False     True        True       0   \n",
       "3134  4367-NUYAO  False    male          False     True        True       0   \n",
       "3203  4472-LVYGI  False  female          False     True        True       0   \n",
       "4169  5709-LVOEQ  False  female          False     True        True       0   \n",
       "5599  7644-OMVMY  False    male          False     True        True       0   \n",
       "\n",
       "      PhoneService  MultipleLines InternetService  ...         OnlineBackup  \\\n",
       "975          False          False             DSL  ...                  Yes   \n",
       "1775          True          False              No  ...  No internet service   \n",
       "1955          True           True             DSL  ...                  Yes   \n",
       "2075          True          False              No  ...  No internet service   \n",
       "2232          True          False              No  ...  No internet service   \n",
       "2308          True           True              No  ...  No internet service   \n",
       "2930          True           True             DSL  ...                  Yes   \n",
       "3134          True           True              No  ...  No internet service   \n",
       "3203         False          False             DSL  ...                   No   \n",
       "4169          True          False             DSL  ...                  Yes   \n",
       "5599          True          False              No  ...  No internet service   \n",
       "\n",
       "         DeviceProtection          TechSupport          StreamingTV  \\\n",
       "975                   Yes                  Yes                  Yes   \n",
       "1775  No internet service  No internet service  No internet service   \n",
       "1955                   No                  Yes                   No   \n",
       "2075  No internet service  No internet service  No internet service   \n",
       "2232  No internet service  No internet service  No internet service   \n",
       "2308  No internet service  No internet service  No internet service   \n",
       "2930                  Yes                  Yes                  Yes   \n",
       "3134  No internet service  No internet service  No internet service   \n",
       "3203                  Yes                  Yes                  Yes   \n",
       "4169                  Yes                   No                  Yes   \n",
       "5599  No internet service  No internet service  No internet service   \n",
       "\n",
       "          StreamingMovies  Contract PaperlessBilling  \\\n",
       "975                    No  Two year            False   \n",
       "1775  No internet service  Two year            False   \n",
       "1955                   No  Two year             True   \n",
       "2075  No internet service  One year             True   \n",
       "2232  No internet service  Two year            False   \n",
       "2308  No internet service  Two year            False   \n",
       "2930                   No  Two year            False   \n",
       "3134  No internet service  Two year            False   \n",
       "3203                   No  Two year             True   \n",
       "4169                  Yes  Two year            False   \n",
       "5599  No internet service  Two year            False   \n",
       "\n",
       "                  PaymentMethod Charges.Monthly  Charges.Total  \n",
       "975     Credit card (automatic)           56.05              0  \n",
       "1775               Mailed check           20.00              0  \n",
       "1955  Bank transfer (automatic)           61.90              0  \n",
       "2075               Mailed check           19.70              0  \n",
       "2232               Mailed check           20.25              0  \n",
       "2308               Mailed check           25.35              0  \n",
       "2930               Mailed check           73.35              0  \n",
       "3134               Mailed check           25.75              0  \n",
       "3203  Bank transfer (automatic)           52.55              0  \n",
       "4169               Mailed check           80.85              0  \n",
       "5599               Mailed check           19.85              0  \n",
       "\n",
       "[11 rows x 21 columns]"
      ]
     },
     "execution_count": 77,
     "metadata": {},
     "output_type": "execute_result"
    }
   ],
   "source": [
    "\n",
    "# aplicando o filtro para visualizar as alterações\n",
    "df.loc[empty_string]"
   ]
  },
  {
   "cell_type": "markdown",
   "id": "f8f4790b",
   "metadata": {},
   "source": [
    "Após a substituição das strings vazias por zero, modificarei o tipo da coluna para float 64"
   ]
  },
  {
   "cell_type": "code",
   "execution_count": 78,
   "id": "49a16ca4",
   "metadata": {},
   "outputs": [],
   "source": [
    "# Mudando o tipo da coluna para float\n",
    "df['Charges.Total'] = df['Charges.Total'].astype(np.float64)"
   ]
  },
  {
   "cell_type": "code",
   "execution_count": 79,
   "id": "9dffef1f",
   "metadata": {},
   "outputs": [
    {
     "data": {
      "text/plain": [
       "dtype('float64')"
      ]
     },
     "execution_count": 79,
     "metadata": {},
     "output_type": "execute_result"
    }
   ],
   "source": [
    "# Verificando\n",
    "df['Charges.Total'].dtype"
   ]
  },
  {
   "cell_type": "code",
   "execution_count": null,
   "id": "31bfd5e7",
   "metadata": {},
   "outputs": [],
   "source": []
  }
 ],
 "metadata": {
  "kernelspec": {
   "display_name": "Python 3 (ipykernel)",
   "language": "python",
   "name": "python3"
  },
  "language_info": {
   "codemirror_mode": {
    "name": "ipython",
    "version": 3
   },
   "file_extension": ".py",
   "mimetype": "text/x-python",
   "name": "python",
   "nbconvert_exporter": "python",
   "pygments_lexer": "ipython3",
   "version": "3.12.1"
  }
 },
 "nbformat": 4,
 "nbformat_minor": 5
}
